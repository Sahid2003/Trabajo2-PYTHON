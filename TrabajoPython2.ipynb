{
  "nbformat": 4,
  "nbformat_minor": 0,
  "metadata": {
    "colab": {
      "name": "TrabajoPython2.ipynb",
      "provenance": [],
      "collapsed_sections": [],
      "include_colab_link": true
    },
    "kernelspec": {
      "name": "python3",
      "display_name": "Python 3"
    },
    "language_info": {
      "name": "python"
    }
  },
  "cells": [
    {
      "cell_type": "markdown",
      "metadata": {
        "id": "view-in-github",
        "colab_type": "text"
      },
      "source": [
        "<a href=\"https://colab.research.google.com/github/Sahid2003/Trabajo2-PYTHON/blob/main/TrabajoPython2.ipynb\" target=\"_parent\"><img src=\"https://colab.research.google.com/assets/colab-badge.svg\" alt=\"Open In Colab\"/></a>"
      ]
    },
    {
      "cell_type": "markdown",
      "source": [
        "**GRÁFICOS Y ANÁLISIS ESTADÍSTICO**"
      ],
      "metadata": {
        "id": "qSQuwt9jtY2E"
      }
    },
    {
      "cell_type": "code",
      "source": [
        "import pandas as pd\n",
        "import numpy as np\n",
        "import matplotlib.pyplot as plt\n",
        "import plotly.express as px\n",
        "import plotly.graph_objects as go\n",
        "import seaborn as sns\n",
        "from matplotlib.pylab import subplots"
      ],
      "metadata": {
        "id": "YFe5azzztTtY"
      },
      "execution_count": null,
      "outputs": []
    },
    {
      "cell_type": "code",
      "source": [
        "heart = pd.read_csv('https://raw.githubusercontent.com/Fernando2505/TRABAJO_2_PYTHON_INTERMEDIO/main/heart.csv')\n",
        "display(heart.head())\n",
        "\n",
        "\n",
        "def usuario_decision():\n",
        "  print(\"Presione A, si desea datos estadísticos de la data\")\n",
        "  print(\"Presione B, si desea visualizar un gráfico de dispersión de datos\")\n",
        "  print(\"Presione C, si desea visualizar un histograma\")\n",
        "  print(\"Presione D, si no desea visualizar ningún gráfico o análisis estadístico\")\n",
        "  decision = input(\"Que opcion elige:\")\n",
        "  while decision !=\"A\" and decision!=\"B\" and decision !=\"C\" and decision!=\"D\":\n",
        "    print(\"Error... debe presionar el comando que le corresponde a su opcion : \")\n",
        "    decision = input(\"Que opcion escoge: \")\n",
        "\n",
        "  if decision == \"A\":\n",
        "    estado = 1\n",
        "  elif decision == \"B\":\n",
        "    estado = 2\n",
        "  elif decision == \"C\":\n",
        "    estado = 3\n",
        "  elif decision == \"D\":\n",
        "    estado = 4\n",
        "  return estado\n",
        "\n",
        "def Dispersion():\n",
        "  heart1 = heart.drop(columns=\"HeartDisease\")\n",
        "  columnas1 = heart1.columns\n",
        "  list_columnas1 = list(columnas1)\n",
        "  heart2 = heart.drop(columns=[\"Age\",\"RestingBP\",\"Cholesterol\",\"MaxHR\",\"Oldpeak\",\"HeartDisease\"])\n",
        "  columnas2 = heart2.columns\n",
        "  list_columnas2 = list(columnas2)\n",
        "  heart3 = heart.drop(columns=[\"Sex\",\"ChestPainType\",\"RestingECG\",\"ExerciseAngina\",\"ST_Slope\",\"Oldpeak\",\"HeartDisease\"])\n",
        "  columnas3 = heart3.columns\n",
        "  list_columnas3 = list(columnas3)\n",
        "  \n",
        "  print(list_columnas1)\n",
        "  a = input(\"Escoge una columna de interes: \")\n",
        "  print()\n",
        "  print(list_columnas2)\n",
        "  b = input(\"Escoge una columna de separacion: \")\n",
        "  c = input(\"Escoge otra columna de separacion: \")\n",
        "  print()\n",
        "  print(list_columnas3)\n",
        "  d = input(\"Escoge una columna para representar el tamaño: \")\n",
        "  fig2 = px.scatter(heart, x= a , y = 'HeartDisease', color = b ,facet_col = c,size = d)\n",
        "  fig2.show()\n",
        "\n",
        "def Histograma_simple():\n",
        "  plt.style.use('seaborn-white')  \n",
        "  columnas = heart.columns\n",
        "  list_columnas = list(columnas)\n",
        "  print(list_columnas)\n",
        "  Valor1 = input(\"Ingrese el nombre de la columna: \")\n",
        "  correcto = \"N\"\n",
        "  while correcto!=\"S\":\n",
        "    if Valor1 in list_columnas:\n",
        "      cant_bins = int(input(\"Cantidad de intervalos que desea: \"))\n",
        "      valor2 = list(heart[Valor1])\n",
        "      valor_arr = np.array(valor2)\n",
        "      plt.hist(valor_arr, bins= cant_bins,alpha=0.8,histtype=\"bar\",color=\"steelblue\",edgecolor=\"black\")\n",
        "      plt.show()\n",
        "      break\n",
        "    else:\n",
        "      print(\"No es una columna de la tabla\")\n",
        "      Valor1 = input(\"Ingrese la columna: \")\n",
        "      correcto = \"N\"\n",
        "\n",
        "def Histograma_doble():\n",
        "  columnas = heart.columns\n",
        "  list_columnas = list(columnas)\n",
        "  print(list_columnas)\n",
        "  p_variable = input(\"Ingrese el nombre de la columna: \")\n",
        "  correcto = \"N\"\n",
        "  while correcto!=\"S\":\n",
        "    if p_variable in list_columnas:\n",
        "      correcto = \"S\"\n",
        "    else:\n",
        "      print(\"No es una columna de la tabla\")\n",
        "      p_variable = input(\"Ingrese la columna que será de grupo: \")\n",
        "      correcto = \"N\"\n",
        "  n = int(input(\"Cantidad de intervalos: \"))\n",
        "  fig1 = px.histogram(heart, x = p_variable,color= \"HeartDisease\", nbins=n,title=\" Histograma entre HeartDisease vs \"+p_variable)\n",
        "  fig1.show()\n",
        "\n",
        "def Datos_Estadisticos():\n",
        "  print(\"Presione A si desea los datos de toda la tabla\")\n",
        "  print(\"Presione B si desea datos específicos\")\n",
        "  opcion = input(\"¿Qué opción elige? \")\n",
        "  while opcion!=\"A\" and opcion!=\"B\":\n",
        "    print(\"Error... Debe presionar el comando referente a la opcion\")\n",
        "    opcion = input(\"¿Qué opcion elige? \")\n",
        "  if opcion == \"A\":\n",
        "    des = heart.describe()\n",
        "    display(des)\n",
        "    columnas = heart.columns\n",
        "    list_columnas = list(columnas)\n",
        "    print(\"Los valores únicos en cada columna:\")\n",
        "    for columna in list_columnas:\n",
        "      grupos = heart.value_counts(columna)\n",
        "      print(grupos)\n",
        "      print(\"Esta columna esta conformada por \",len(grupos),\"grupos\")\n",
        "      print()\n",
        "\n",
        "  elif opcion == \"B\":    \n",
        "    columnas = heart.columns\n",
        "    list_columnas = list(columnas)\n",
        "    print(list_columnas)\n",
        "    col_df = input(\"Escriba el nombre de la columna: \")\n",
        "    des1 = heart[col_df].describe()\n",
        "    des2 = heart.value_counts(col_df)\n",
        "    print(\"Los datos de la columa \"+col_df +\": \")\n",
        "    display(des1)\n",
        "    print(\"La data esta distribuida en esta columna como:\")\n",
        "    display(des2)\n",
        "    \n",
        "while True:\n",
        "  estado = usuario_decision ()\n",
        "  if estado == 1:\n",
        "    Datos_Estadisticos()\n",
        "  elif estado == 2:\n",
        "    Dispersion()\n",
        "  elif estado == 3:\n",
        "    print(\"Presione H si desea un histograma para una columna:\")\n",
        "    print(\"Presione HD si desea un histograma diferenciada entre HeartDisease y la variable que ingrese:\")\n",
        "    opcion = input(\"Que opcion elige: \")\n",
        "    while opcion != \"H\" and opcion != \"HD\":\n",
        "      print(\"Error... debe presionar el comando que le corresponde a su opción : \")\n",
        "      opcion = input(\"Que opción escoge: \") \n",
        "    if opcion == \"H\":\n",
        "      Histograma_simple()\n",
        "    else:\n",
        "      Histograma_doble()\n",
        "  elif estado == 4:\n",
        "    break"
      ],
      "metadata": {
        "colab": {
          "base_uri": "https://localhost:8080/",
          "height": 1000
        },
        "id": "P8g5wYFLtsEl",
        "outputId": "d86fc365-dcf5-4b86-ad49-af10cd4276c6"
      },
      "execution_count": null,
      "outputs": [
        {
          "output_type": "display_data",
          "data": {
            "text/html": [
              "\n",
              "  <div id=\"df-fb346bdb-9d08-445f-8a16-833b35e4d8ca\">\n",
              "    <div class=\"colab-df-container\">\n",
              "      <div>\n",
              "<style scoped>\n",
              "    .dataframe tbody tr th:only-of-type {\n",
              "        vertical-align: middle;\n",
              "    }\n",
              "\n",
              "    .dataframe tbody tr th {\n",
              "        vertical-align: top;\n",
              "    }\n",
              "\n",
              "    .dataframe thead th {\n",
              "        text-align: right;\n",
              "    }\n",
              "</style>\n",
              "<table border=\"1\" class=\"dataframe\">\n",
              "  <thead>\n",
              "    <tr style=\"text-align: right;\">\n",
              "      <th></th>\n",
              "      <th>Age</th>\n",
              "      <th>Sex</th>\n",
              "      <th>ChestPainType</th>\n",
              "      <th>RestingBP</th>\n",
              "      <th>Cholesterol</th>\n",
              "      <th>FastingBS</th>\n",
              "      <th>RestingECG</th>\n",
              "      <th>MaxHR</th>\n",
              "      <th>ExerciseAngina</th>\n",
              "      <th>Oldpeak</th>\n",
              "      <th>ST_Slope</th>\n",
              "      <th>HeartDisease</th>\n",
              "    </tr>\n",
              "  </thead>\n",
              "  <tbody>\n",
              "    <tr>\n",
              "      <th>0</th>\n",
              "      <td>40</td>\n",
              "      <td>M</td>\n",
              "      <td>ATA</td>\n",
              "      <td>140</td>\n",
              "      <td>289</td>\n",
              "      <td>0</td>\n",
              "      <td>Normal</td>\n",
              "      <td>172</td>\n",
              "      <td>N</td>\n",
              "      <td>0.0</td>\n",
              "      <td>Up</td>\n",
              "      <td>0</td>\n",
              "    </tr>\n",
              "    <tr>\n",
              "      <th>1</th>\n",
              "      <td>49</td>\n",
              "      <td>F</td>\n",
              "      <td>NAP</td>\n",
              "      <td>160</td>\n",
              "      <td>180</td>\n",
              "      <td>0</td>\n",
              "      <td>Normal</td>\n",
              "      <td>156</td>\n",
              "      <td>N</td>\n",
              "      <td>1.0</td>\n",
              "      <td>Flat</td>\n",
              "      <td>1</td>\n",
              "    </tr>\n",
              "    <tr>\n",
              "      <th>2</th>\n",
              "      <td>37</td>\n",
              "      <td>M</td>\n",
              "      <td>ATA</td>\n",
              "      <td>130</td>\n",
              "      <td>283</td>\n",
              "      <td>0</td>\n",
              "      <td>ST</td>\n",
              "      <td>98</td>\n",
              "      <td>N</td>\n",
              "      <td>0.0</td>\n",
              "      <td>Up</td>\n",
              "      <td>0</td>\n",
              "    </tr>\n",
              "    <tr>\n",
              "      <th>3</th>\n",
              "      <td>48</td>\n",
              "      <td>F</td>\n",
              "      <td>ASY</td>\n",
              "      <td>138</td>\n",
              "      <td>214</td>\n",
              "      <td>0</td>\n",
              "      <td>Normal</td>\n",
              "      <td>108</td>\n",
              "      <td>Y</td>\n",
              "      <td>1.5</td>\n",
              "      <td>Flat</td>\n",
              "      <td>1</td>\n",
              "    </tr>\n",
              "    <tr>\n",
              "      <th>4</th>\n",
              "      <td>54</td>\n",
              "      <td>M</td>\n",
              "      <td>NAP</td>\n",
              "      <td>150</td>\n",
              "      <td>195</td>\n",
              "      <td>0</td>\n",
              "      <td>Normal</td>\n",
              "      <td>122</td>\n",
              "      <td>N</td>\n",
              "      <td>0.0</td>\n",
              "      <td>Up</td>\n",
              "      <td>0</td>\n",
              "    </tr>\n",
              "  </tbody>\n",
              "</table>\n",
              "</div>\n",
              "      <button class=\"colab-df-convert\" onclick=\"convertToInteractive('df-fb346bdb-9d08-445f-8a16-833b35e4d8ca')\"\n",
              "              title=\"Convert this dataframe to an interactive table.\"\n",
              "              style=\"display:none;\">\n",
              "        \n",
              "  <svg xmlns=\"http://www.w3.org/2000/svg\" height=\"24px\"viewBox=\"0 0 24 24\"\n",
              "       width=\"24px\">\n",
              "    <path d=\"M0 0h24v24H0V0z\" fill=\"none\"/>\n",
              "    <path d=\"M18.56 5.44l.94 2.06.94-2.06 2.06-.94-2.06-.94-.94-2.06-.94 2.06-2.06.94zm-11 1L8.5 8.5l.94-2.06 2.06-.94-2.06-.94L8.5 2.5l-.94 2.06-2.06.94zm10 10l.94 2.06.94-2.06 2.06-.94-2.06-.94-.94-2.06-.94 2.06-2.06.94z\"/><path d=\"M17.41 7.96l-1.37-1.37c-.4-.4-.92-.59-1.43-.59-.52 0-1.04.2-1.43.59L10.3 9.45l-7.72 7.72c-.78.78-.78 2.05 0 2.83L4 21.41c.39.39.9.59 1.41.59.51 0 1.02-.2 1.41-.59l7.78-7.78 2.81-2.81c.8-.78.8-2.07 0-2.86zM5.41 20L4 18.59l7.72-7.72 1.47 1.35L5.41 20z\"/>\n",
              "  </svg>\n",
              "      </button>\n",
              "      \n",
              "  <style>\n",
              "    .colab-df-container {\n",
              "      display:flex;\n",
              "      flex-wrap:wrap;\n",
              "      gap: 12px;\n",
              "    }\n",
              "\n",
              "    .colab-df-convert {\n",
              "      background-color: #E8F0FE;\n",
              "      border: none;\n",
              "      border-radius: 50%;\n",
              "      cursor: pointer;\n",
              "      display: none;\n",
              "      fill: #1967D2;\n",
              "      height: 32px;\n",
              "      padding: 0 0 0 0;\n",
              "      width: 32px;\n",
              "    }\n",
              "\n",
              "    .colab-df-convert:hover {\n",
              "      background-color: #E2EBFA;\n",
              "      box-shadow: 0px 1px 2px rgba(60, 64, 67, 0.3), 0px 1px 3px 1px rgba(60, 64, 67, 0.15);\n",
              "      fill: #174EA6;\n",
              "    }\n",
              "\n",
              "    [theme=dark] .colab-df-convert {\n",
              "      background-color: #3B4455;\n",
              "      fill: #D2E3FC;\n",
              "    }\n",
              "\n",
              "    [theme=dark] .colab-df-convert:hover {\n",
              "      background-color: #434B5C;\n",
              "      box-shadow: 0px 1px 3px 1px rgba(0, 0, 0, 0.15);\n",
              "      filter: drop-shadow(0px 1px 2px rgba(0, 0, 0, 0.3));\n",
              "      fill: #FFFFFF;\n",
              "    }\n",
              "  </style>\n",
              "\n",
              "      <script>\n",
              "        const buttonEl =\n",
              "          document.querySelector('#df-fb346bdb-9d08-445f-8a16-833b35e4d8ca button.colab-df-convert');\n",
              "        buttonEl.style.display =\n",
              "          google.colab.kernel.accessAllowed ? 'block' : 'none';\n",
              "\n",
              "        async function convertToInteractive(key) {\n",
              "          const element = document.querySelector('#df-fb346bdb-9d08-445f-8a16-833b35e4d8ca');\n",
              "          const dataTable =\n",
              "            await google.colab.kernel.invokeFunction('convertToInteractive',\n",
              "                                                     [key], {});\n",
              "          if (!dataTable) return;\n",
              "\n",
              "          const docLinkHtml = 'Like what you see? Visit the ' +\n",
              "            '<a target=\"_blank\" href=https://colab.research.google.com/notebooks/data_table.ipynb>data table notebook</a>'\n",
              "            + ' to learn more about interactive tables.';\n",
              "          element.innerHTML = '';\n",
              "          dataTable['output_type'] = 'display_data';\n",
              "          await google.colab.output.renderOutput(dataTable, element);\n",
              "          const docLink = document.createElement('div');\n",
              "          docLink.innerHTML = docLinkHtml;\n",
              "          element.appendChild(docLink);\n",
              "        }\n",
              "      </script>\n",
              "    </div>\n",
              "  </div>\n",
              "  "
            ],
            "text/plain": [
              "   Age Sex ChestPainType  ...  Oldpeak  ST_Slope  HeartDisease\n",
              "0   40   M           ATA  ...      0.0        Up             0\n",
              "1   49   F           NAP  ...      1.0      Flat             1\n",
              "2   37   M           ATA  ...      0.0        Up             0\n",
              "3   48   F           ASY  ...      1.5      Flat             1\n",
              "4   54   M           NAP  ...      0.0        Up             0\n",
              "\n",
              "[5 rows x 12 columns]"
            ]
          },
          "metadata": {}
        },
        {
          "name": "stdout",
          "output_type": "stream",
          "text": [
            "Presione A, si desea datos estadísticos de la data\n",
            "Presione B, si desea visualizar un gráfico de dispersión de datos\n",
            "Presione C, si desea visualizar un histograma\n",
            "Presione D, si no desea visualizar ningún gráfico o análisis estadístico\n",
            "Que opcion elige:A\n",
            "Presione A si desea los datos de toda la tabla\n",
            "Presione B si desea datos específicos\n",
            "¿Qué opción elige? A\n"
          ]
        },
        {
          "output_type": "display_data",
          "data": {
            "text/html": [
              "\n",
              "  <div id=\"df-0f6369b0-7ee8-4560-b21f-48dc84a6ad77\">\n",
              "    <div class=\"colab-df-container\">\n",
              "      <div>\n",
              "<style scoped>\n",
              "    .dataframe tbody tr th:only-of-type {\n",
              "        vertical-align: middle;\n",
              "    }\n",
              "\n",
              "    .dataframe tbody tr th {\n",
              "        vertical-align: top;\n",
              "    }\n",
              "\n",
              "    .dataframe thead th {\n",
              "        text-align: right;\n",
              "    }\n",
              "</style>\n",
              "<table border=\"1\" class=\"dataframe\">\n",
              "  <thead>\n",
              "    <tr style=\"text-align: right;\">\n",
              "      <th></th>\n",
              "      <th>Age</th>\n",
              "      <th>RestingBP</th>\n",
              "      <th>Cholesterol</th>\n",
              "      <th>FastingBS</th>\n",
              "      <th>MaxHR</th>\n",
              "      <th>Oldpeak</th>\n",
              "      <th>HeartDisease</th>\n",
              "    </tr>\n",
              "  </thead>\n",
              "  <tbody>\n",
              "    <tr>\n",
              "      <th>count</th>\n",
              "      <td>918.000000</td>\n",
              "      <td>918.000000</td>\n",
              "      <td>918.000000</td>\n",
              "      <td>918.000000</td>\n",
              "      <td>918.000000</td>\n",
              "      <td>918.000000</td>\n",
              "      <td>918.000000</td>\n",
              "    </tr>\n",
              "    <tr>\n",
              "      <th>mean</th>\n",
              "      <td>53.510893</td>\n",
              "      <td>132.396514</td>\n",
              "      <td>198.799564</td>\n",
              "      <td>0.233115</td>\n",
              "      <td>136.809368</td>\n",
              "      <td>0.887364</td>\n",
              "      <td>0.553377</td>\n",
              "    </tr>\n",
              "    <tr>\n",
              "      <th>std</th>\n",
              "      <td>9.432617</td>\n",
              "      <td>18.514154</td>\n",
              "      <td>109.384145</td>\n",
              "      <td>0.423046</td>\n",
              "      <td>25.460334</td>\n",
              "      <td>1.066570</td>\n",
              "      <td>0.497414</td>\n",
              "    </tr>\n",
              "    <tr>\n",
              "      <th>min</th>\n",
              "      <td>28.000000</td>\n",
              "      <td>0.000000</td>\n",
              "      <td>0.000000</td>\n",
              "      <td>0.000000</td>\n",
              "      <td>60.000000</td>\n",
              "      <td>-2.600000</td>\n",
              "      <td>0.000000</td>\n",
              "    </tr>\n",
              "    <tr>\n",
              "      <th>25%</th>\n",
              "      <td>47.000000</td>\n",
              "      <td>120.000000</td>\n",
              "      <td>173.250000</td>\n",
              "      <td>0.000000</td>\n",
              "      <td>120.000000</td>\n",
              "      <td>0.000000</td>\n",
              "      <td>0.000000</td>\n",
              "    </tr>\n",
              "    <tr>\n",
              "      <th>50%</th>\n",
              "      <td>54.000000</td>\n",
              "      <td>130.000000</td>\n",
              "      <td>223.000000</td>\n",
              "      <td>0.000000</td>\n",
              "      <td>138.000000</td>\n",
              "      <td>0.600000</td>\n",
              "      <td>1.000000</td>\n",
              "    </tr>\n",
              "    <tr>\n",
              "      <th>75%</th>\n",
              "      <td>60.000000</td>\n",
              "      <td>140.000000</td>\n",
              "      <td>267.000000</td>\n",
              "      <td>0.000000</td>\n",
              "      <td>156.000000</td>\n",
              "      <td>1.500000</td>\n",
              "      <td>1.000000</td>\n",
              "    </tr>\n",
              "    <tr>\n",
              "      <th>max</th>\n",
              "      <td>77.000000</td>\n",
              "      <td>200.000000</td>\n",
              "      <td>603.000000</td>\n",
              "      <td>1.000000</td>\n",
              "      <td>202.000000</td>\n",
              "      <td>6.200000</td>\n",
              "      <td>1.000000</td>\n",
              "    </tr>\n",
              "  </tbody>\n",
              "</table>\n",
              "</div>\n",
              "      <button class=\"colab-df-convert\" onclick=\"convertToInteractive('df-0f6369b0-7ee8-4560-b21f-48dc84a6ad77')\"\n",
              "              title=\"Convert this dataframe to an interactive table.\"\n",
              "              style=\"display:none;\">\n",
              "        \n",
              "  <svg xmlns=\"http://www.w3.org/2000/svg\" height=\"24px\"viewBox=\"0 0 24 24\"\n",
              "       width=\"24px\">\n",
              "    <path d=\"M0 0h24v24H0V0z\" fill=\"none\"/>\n",
              "    <path d=\"M18.56 5.44l.94 2.06.94-2.06 2.06-.94-2.06-.94-.94-2.06-.94 2.06-2.06.94zm-11 1L8.5 8.5l.94-2.06 2.06-.94-2.06-.94L8.5 2.5l-.94 2.06-2.06.94zm10 10l.94 2.06.94-2.06 2.06-.94-2.06-.94-.94-2.06-.94 2.06-2.06.94z\"/><path d=\"M17.41 7.96l-1.37-1.37c-.4-.4-.92-.59-1.43-.59-.52 0-1.04.2-1.43.59L10.3 9.45l-7.72 7.72c-.78.78-.78 2.05 0 2.83L4 21.41c.39.39.9.59 1.41.59.51 0 1.02-.2 1.41-.59l7.78-7.78 2.81-2.81c.8-.78.8-2.07 0-2.86zM5.41 20L4 18.59l7.72-7.72 1.47 1.35L5.41 20z\"/>\n",
              "  </svg>\n",
              "      </button>\n",
              "      \n",
              "  <style>\n",
              "    .colab-df-container {\n",
              "      display:flex;\n",
              "      flex-wrap:wrap;\n",
              "      gap: 12px;\n",
              "    }\n",
              "\n",
              "    .colab-df-convert {\n",
              "      background-color: #E8F0FE;\n",
              "      border: none;\n",
              "      border-radius: 50%;\n",
              "      cursor: pointer;\n",
              "      display: none;\n",
              "      fill: #1967D2;\n",
              "      height: 32px;\n",
              "      padding: 0 0 0 0;\n",
              "      width: 32px;\n",
              "    }\n",
              "\n",
              "    .colab-df-convert:hover {\n",
              "      background-color: #E2EBFA;\n",
              "      box-shadow: 0px 1px 2px rgba(60, 64, 67, 0.3), 0px 1px 3px 1px rgba(60, 64, 67, 0.15);\n",
              "      fill: #174EA6;\n",
              "    }\n",
              "\n",
              "    [theme=dark] .colab-df-convert {\n",
              "      background-color: #3B4455;\n",
              "      fill: #D2E3FC;\n",
              "    }\n",
              "\n",
              "    [theme=dark] .colab-df-convert:hover {\n",
              "      background-color: #434B5C;\n",
              "      box-shadow: 0px 1px 3px 1px rgba(0, 0, 0, 0.15);\n",
              "      filter: drop-shadow(0px 1px 2px rgba(0, 0, 0, 0.3));\n",
              "      fill: #FFFFFF;\n",
              "    }\n",
              "  </style>\n",
              "\n",
              "      <script>\n",
              "        const buttonEl =\n",
              "          document.querySelector('#df-0f6369b0-7ee8-4560-b21f-48dc84a6ad77 button.colab-df-convert');\n",
              "        buttonEl.style.display =\n",
              "          google.colab.kernel.accessAllowed ? 'block' : 'none';\n",
              "\n",
              "        async function convertToInteractive(key) {\n",
              "          const element = document.querySelector('#df-0f6369b0-7ee8-4560-b21f-48dc84a6ad77');\n",
              "          const dataTable =\n",
              "            await google.colab.kernel.invokeFunction('convertToInteractive',\n",
              "                                                     [key], {});\n",
              "          if (!dataTable) return;\n",
              "\n",
              "          const docLinkHtml = 'Like what you see? Visit the ' +\n",
              "            '<a target=\"_blank\" href=https://colab.research.google.com/notebooks/data_table.ipynb>data table notebook</a>'\n",
              "            + ' to learn more about interactive tables.';\n",
              "          element.innerHTML = '';\n",
              "          dataTable['output_type'] = 'display_data';\n",
              "          await google.colab.output.renderOutput(dataTable, element);\n",
              "          const docLink = document.createElement('div');\n",
              "          docLink.innerHTML = docLinkHtml;\n",
              "          element.appendChild(docLink);\n",
              "        }\n",
              "      </script>\n",
              "    </div>\n",
              "  </div>\n",
              "  "
            ],
            "text/plain": [
              "              Age   RestingBP  ...     Oldpeak  HeartDisease\n",
              "count  918.000000  918.000000  ...  918.000000    918.000000\n",
              "mean    53.510893  132.396514  ...    0.887364      0.553377\n",
              "std      9.432617   18.514154  ...    1.066570      0.497414\n",
              "min     28.000000    0.000000  ...   -2.600000      0.000000\n",
              "25%     47.000000  120.000000  ...    0.000000      0.000000\n",
              "50%     54.000000  130.000000  ...    0.600000      1.000000\n",
              "75%     60.000000  140.000000  ...    1.500000      1.000000\n",
              "max     77.000000  200.000000  ...    6.200000      1.000000\n",
              "\n",
              "[8 rows x 7 columns]"
            ]
          },
          "metadata": {}
        },
        {
          "output_type": "stream",
          "name": "stdout",
          "text": [
            "Los valores únicos en cada columna:\n",
            "Age\n",
            "54    51\n",
            "58    42\n",
            "55    41\n",
            "57    38\n",
            "56    38\n",
            "52    36\n",
            "62    35\n",
            "59    35\n",
            "51    35\n",
            "53    33\n",
            "60    32\n",
            "48    31\n",
            "61    31\n",
            "63    30\n",
            "50    25\n",
            "43    24\n",
            "46    24\n",
            "41    24\n",
            "64    22\n",
            "49    21\n",
            "65    21\n",
            "47    19\n",
            "44    19\n",
            "45    18\n",
            "42    18\n",
            "38    16\n",
            "67    15\n",
            "39    15\n",
            "69    13\n",
            "40    13\n",
            "66    13\n",
            "35    11\n",
            "37    11\n",
            "68    10\n",
            "34     7\n",
            "74     7\n",
            "70     7\n",
            "36     6\n",
            "32     5\n",
            "71     5\n",
            "72     4\n",
            "75     3\n",
            "29     3\n",
            "76     2\n",
            "77     2\n",
            "33     2\n",
            "31     2\n",
            "73     1\n",
            "30     1\n",
            "28     1\n",
            "dtype: int64\n",
            "Esta columna esta conformada por  50 grupos\n",
            "\n",
            "Sex\n",
            "M    725\n",
            "F    193\n",
            "dtype: int64\n",
            "Esta columna esta conformada por  2 grupos\n",
            "\n",
            "ChestPainType\n",
            "ASY    496\n",
            "NAP    203\n",
            "ATA    173\n",
            "TA      46\n",
            "dtype: int64\n",
            "Esta columna esta conformada por  4 grupos\n",
            "\n",
            "RestingBP\n",
            "120    132\n",
            "130    118\n",
            "140    107\n",
            "110     58\n",
            "150     55\n",
            "      ... \n",
            "113      1\n",
            "117      1\n",
            "127      1\n",
            "129      1\n",
            "0        1\n",
            "Length: 67, dtype: int64\n",
            "Esta columna esta conformada por  67 grupos\n",
            "\n",
            "Cholesterol\n",
            "0      172\n",
            "254     11\n",
            "223     10\n",
            "220     10\n",
            "211      9\n",
            "      ... \n",
            "117      1\n",
            "123      1\n",
            "131      1\n",
            "293      1\n",
            "603      1\n",
            "Length: 222, dtype: int64\n",
            "Esta columna esta conformada por  222 grupos\n",
            "\n",
            "FastingBS\n",
            "0    704\n",
            "1    214\n",
            "dtype: int64\n",
            "Esta columna esta conformada por  2 grupos\n",
            "\n",
            "RestingECG\n",
            "Normal    552\n",
            "LVH       188\n",
            "ST        178\n",
            "dtype: int64\n",
            "Esta columna esta conformada por  3 grupos\n",
            "\n",
            "MaxHR\n",
            "150    43\n",
            "140    41\n",
            "120    36\n",
            "130    33\n",
            "160    25\n",
            "       ..\n",
            "71      1\n",
            "70      1\n",
            "69      1\n",
            "67      1\n",
            "202     1\n",
            "Length: 119, dtype: int64\n",
            "Esta columna esta conformada por  119 grupos\n",
            "\n",
            "ExerciseAngina\n",
            "N    547\n",
            "Y    371\n",
            "dtype: int64\n",
            "Esta columna esta conformada por  2 grupos\n",
            "\n",
            "Oldpeak\n",
            " 0.0    368\n",
            " 1.0     86\n",
            " 2.0     76\n",
            " 1.5     53\n",
            " 3.0     28\n",
            " 1.2     26\n",
            " 0.2     22\n",
            " 0.5     19\n",
            " 1.4     18\n",
            " 1.8     17\n",
            " 1.6     16\n",
            " 2.5     16\n",
            " 0.8     16\n",
            " 0.6     14\n",
            " 0.1     14\n",
            " 0.4     11\n",
            " 0.3     11\n",
            " 4.0      8\n",
            " 1.9      7\n",
            " 2.6      7\n",
            " 2.8      7\n",
            " 1.3      7\n",
            " 1.1      7\n",
            " 0.7      7\n",
            " 1.7      6\n",
            " 2.2      5\n",
            " 3.6      4\n",
            " 2.4      4\n",
            " 0.9      4\n",
            " 3.4      3\n",
            " 3.2      2\n",
            "-1.0      2\n",
            " 3.5      2\n",
            " 2.1      2\n",
            " 4.2      2\n",
            "-0.5      2\n",
            "-0.1      2\n",
            " 2.3      2\n",
            " 4.4      1\n",
            " 5.0      1\n",
            " 3.7      1\n",
            " 5.6      1\n",
            " 3.8      1\n",
            "-2.6      1\n",
            " 3.1      1\n",
            " 2.9      1\n",
            "-2.0      1\n",
            "-0.7      1\n",
            "-0.8      1\n",
            "-0.9      1\n",
            "-1.1      1\n",
            "-1.5      1\n",
            " 6.2      1\n",
            "dtype: int64\n",
            "Esta columna esta conformada por  53 grupos\n",
            "\n",
            "ST_Slope\n",
            "Flat    460\n",
            "Up      395\n",
            "Down     63\n",
            "dtype: int64\n",
            "Esta columna esta conformada por  3 grupos\n",
            "\n",
            "HeartDisease\n",
            "1    508\n",
            "0    410\n",
            "dtype: int64\n",
            "Esta columna esta conformada por  2 grupos\n",
            "\n",
            "Presione A, si desea datos estadísticos de la data\n",
            "Presione B, si desea visualizar un gráfico de dispersión de datos\n",
            "Presione C, si desea visualizar un histograma\n",
            "Presione D, si no desea visualizar ningún gráfico o análisis estadístico\n",
            "Que opcion elige:A\n",
            "Presione A si desea los datos de toda la tabla\n",
            "Presione B si desea datos específicos\n",
            "¿Qué opción elige? B\n",
            "['Age', 'Sex', 'ChestPainType', 'RestingBP', 'Cholesterol', 'FastingBS', 'RestingECG', 'MaxHR', 'ExerciseAngina', 'Oldpeak', 'ST_Slope', 'HeartDisease']\n",
            "Escriba el nombre de la columna: Sex\n",
            "Los datos de la columa Sex: \n"
          ]
        },
        {
          "output_type": "display_data",
          "data": {
            "text/plain": [
              "count     918\n",
              "unique      2\n",
              "top         M\n",
              "freq      725\n",
              "Name: Sex, dtype: object"
            ]
          },
          "metadata": {}
        },
        {
          "output_type": "stream",
          "name": "stdout",
          "text": [
            "La data esta distribuida en esta columna como:\n"
          ]
        },
        {
          "output_type": "display_data",
          "data": {
            "text/plain": [
              "Sex\n",
              "M    725\n",
              "F    193\n",
              "dtype: int64"
            ]
          },
          "metadata": {}
        },
        {
          "name": "stdout",
          "output_type": "stream",
          "text": [
            "Presione A, si desea datos estadísticos de la data\n",
            "Presione B, si desea visualizar un gráfico de dispersión de datos\n",
            "Presione C, si desea visualizar un histograma\n",
            "Presione D, si no desea visualizar ningún gráfico o análisis estadístico\n",
            "Que opcion elige:B\n",
            "['Age', 'Sex', 'ChestPainType', 'RestingBP', 'Cholesterol', 'FastingBS', 'RestingECG', 'MaxHR', 'ExerciseAngina', 'Oldpeak', 'ST_Slope']\n",
            "Escoge una columna de interes: RestingBP\n",
            "\n",
            "['Sex', 'ChestPainType', 'FastingBS', 'RestingECG', 'ExerciseAngina', 'ST_Slope']\n",
            "Escoge una columna de separacion: Sex\n",
            "Escoge otra columna de separacion: ChestPainType\n",
            "\n",
            "['Age', 'RestingBP', 'Cholesterol', 'FastingBS', 'MaxHR']\n",
            "Escoge una columna para representar el tamaño: Age\n"
          ]
        },
        {
          "output_type": "display_data",
          "data": {
            "text/html": [
              "<html>\n",
              "<head><meta charset=\"utf-8\" /></head>\n",
              "<body>\n",
              "    <div>            <script src=\"https://cdnjs.cloudflare.com/ajax/libs/mathjax/2.7.5/MathJax.js?config=TeX-AMS-MML_SVG\"></script><script type=\"text/javascript\">if (window.MathJax) {MathJax.Hub.Config({SVG: {font: \"STIX-Web\"}});}</script>                <script type=\"text/javascript\">window.PlotlyConfig = {MathJaxConfig: 'local'};</script>\n",
              "        <script src=\"https://cdn.plot.ly/plotly-2.8.3.min.js\"></script>                <div id=\"22bb33be-0703-404e-af80-47eb454e9152\" class=\"plotly-graph-div\" style=\"height:525px; width:100%;\"></div>            <script type=\"text/javascript\">                                    window.PLOTLYENV=window.PLOTLYENV || {};                                    if (document.getElementById(\"22bb33be-0703-404e-af80-47eb454e9152\")) {                    Plotly.newPlot(                        \"22bb33be-0703-404e-af80-47eb454e9152\",                        [{\"hovertemplate\":\"Sex=M<br>ChestPainType=ATA<br>RestingBP=%{x}<br>HeartDisease=%{y}<br>Age=%{marker.size}<extra></extra>\",\"legendgroup\":\"M\",\"marker\":{\"color\":\"#636efa\",\"size\":[40,37,54,58,39,36,44,44,52,51,32,35,50,45,49,32,57,44,52,54,52,43,41,57,34,39,38,58,54,39,42,50,39,48,40,41,54,47,42,48,29,53,59,51,58,50,48,42,56,35,35,28,55,29,55,41,39,55,55,62,46,54,34,53,36,55,53,74,53,60,56,56,62,58,63,55,61,54,57,63,62,57,48,46,66,52,62,70,56,62,59,41,42,52,54,45,55,54,29,44,41,52,44,58,49,48,44,57,35,58,56,56,41],\"sizemode\":\"area\",\"sizeref\":0.1925,\"symbol\":\"circle\"},\"mode\":\"markers\",\"name\":\"M\",\"orientation\":\"v\",\"showlegend\":true,\"x\":[140,130,110,136,120,120,120,150,120,125,125,150,140,140,100,110,140,130,140,120,160,142,125,140,150,190,140,130,120,120,120,120,130,100,130,120,160,160,120,140,120,140,140,130,130,170,130,150,130,120,110,130,140,140,120,120,120,145,160,140,140,160,98,120,120,140,130,145,120,160,126,124,131,126,139,110,139,132,180,136,120,124,130,101,160,128,120,156,120,128,140,110,120,134,192,128,130,108,130,120,135,120,130,120,130,110,120,154,122,125,130,120,120],\"xaxis\":\"x\",\"y\":[0,0,0,1,0,1,0,1,0,0,0,0,0,0,0,0,1,0,0,0,0,0,0,0,0,0,0,0,0,0,0,0,0,0,0,0,0,0,0,0,0,0,0,0,0,0,0,0,0,0,1,0,0,0,0,0,0,0,1,0,0,0,0,0,0,0,0,1,1,1,0,0,0,1,1,0,0,0,1,0,1,1,0,0,1,0,1,0,0,0,0,0,0,0,1,0,0,0,0,0,0,0,0,1,0,1,0,1,0,0,0,0,0],\"yaxis\":\"y\",\"type\":\"scatter\"},{\"hovertemplate\":\"Sex=M<br>ChestPainType=NAP<br>RestingBP=%{x}<br>HeartDisease=%{y}<br>Age=%{marker.size}<extra></extra>\",\"legendgroup\":\"M\",\"marker\":{\"color\":\"#636efa\",\"size\":[54,39,40,36,53,56,52,59,36,58,46,55,39,42,38,49,58,40,49,37,58,45,46,42,56,54,33,53,40,54,36,47,55,59,51,60,48,57,59,45,60,38,72,38,53,62,56,56,47,61,47,53,56,66,66,60,60,63,63,74,52,55,55,52,61,59,42,55,60,56,69,72,51,55,40,35,63,68,48,45,49,62,62,76,48,62,71,53,58,56,58,54,69,37,74,55,61,61,68,56,44,58,57,42,44,59,58,49,57,44,47,41,51,49,54,54,50,58,41,53,69,46,50,42,53,43,70,48,68,58,64,37,51,51,54,57,62,47,68,39,60,51,59,61,64,52,52,47,67,38],\"sizemode\":\"area\",\"sizeref\":0.1925,\"symbol\":\"circle\"},\"mode\":\"markers\",\"name\":\"M\",\"orientation\":\"v\",\"showlegend\":false,\"x\":[150,120,130,130,145,130,140,130,112,130,150,110,160,120,145,115,140,140,140,130,160,135,120,160,130,120,120,120,130,120,150,140,120,180,135,120,110,105,125,110,115,100,160,115,105,160,155,120,155,200,110,160,125,110,120,180,120,133,130,138,128,136,0,122,120,131,134,120,141,170,140,120,137,136,106,123,130,150,102,130,131,133,138,104,132,120,144,155,150,137,137,133,142,118,140,133,140,120,134,130,140,112,128,130,130,126,140,118,150,120,108,130,100,120,125,150,140,132,112,130,140,150,129,120,130,130,160,124,118,105,125,130,125,94,120,150,130,138,180,140,140,110,150,150,140,172,138,130,152,138],\"xaxis\":\"x2\",\"y\":[0,0,0,0,1,0,0,0,0,1,0,0,0,0,0,1,0,0,0,0,1,0,0,0,0,0,0,0,0,1,0,1,0,0,1,0,0,1,1,0,1,0,0,1,1,1,1,0,1,1,1,1,1,0,0,0,1,1,1,0,1,1,1,1,1,1,0,1,1,1,1,1,1,1,0,0,0,1,1,0,1,1,1,1,1,0,1,0,1,1,1,0,0,0,1,0,1,1,0,1,0,1,1,0,0,1,0,1,0,0,1,0,0,1,0,0,1,1,0,0,1,1,0,0,0,0,1,0,0,0,1,0,0,0,0,0,0,0,1,0,1,0,0,0,1,0,0,0,1,0],\"yaxis\":\"y2\",\"type\":\"scatter\"},{\"hovertemplate\":\"Sex=M<br>ChestPainType=ASY<br>RestingBP=%{x}<br>HeartDisease=%{y}<br>Age=%{marker.size}<extra></extra>\",\"legendgroup\":\"M\",\"marker\":{\"color\":\"#636efa\",\"size\":[37,49,38,60,53,54,41,65,43,37,41,50,31,54,52,45,46,52,44,52,55,32,49,63,56,66,65,55,39,48,58,56,65,51,40,46,50,57,47,38,46,46,56,56,54,43,52,50,47,53,39,54,55,56,38,49,44,59,49,50,58,52,43,54,52,52,46,41,53,46,49,53,50,54,48,47,39,46,50,38,37,41,41,48,48,54,48,48,45,49,44,48,61,55,46,59,52,54,45,55,52,49,42,59,53,65,61,50,57,51,47,60,53,51,55,58,57,65,60,41,34,53,56,61,68,63,62,46,42,59,52,60,56,40,51,63,63,43,64,61,52,51,69,59,48,69,36,53,43,56,58,55,46,47,56,61,68,57,63,60,66,63,59,61,65,70,50,60,50,43,54,61,42,53,55,61,51,70,61,38,57,38,58,52,51,65,52,35,57,62,59,62,54,56,54,63,44,60,55,65,59,62,57,62,63,46,63,60,58,64,69,51,60,56,54,77,63,64,60,60,58,59,40,61,41,57,63,59,51,62,53,68,53,59,51,61,57,58,65,57,54,75,60,58,61,67,62,65,63,69,51,62,75,67,58,60,63,43,65,63,64,61,50,59,55,65,72,50,64,55,63,59,56,74,54,57,70,48,66,55,75,64,59,55,57,61,41,71,38,55,56,69,64,72,69,56,62,67,57,69,51,48,69,64,53,67,58,61,64,58,60,57,55,56,57,74,62,53,62,46,55,58,70,64,65,59,60,59,53,46,53,67,43,47,66,59,50,48,61,48,40,44,42,61,57,51,61,45,45,58,35,58,57,50,54,54,52,47,66,58,67,57,63,48,59,46,56,54,57,62,60,66,42,64,56,57,64,59,53,52,40,55,58,43,67,51,67,41,56,52,54,70,35,77,58,60,51,55,58,54,65,63,39,45,52,43,60,65,60,54,44,55,43,60,57,67,43,52,57,61,58,44,63,59,68,57],\"sizemode\":\"area\",\"sizeref\":0.1925,\"symbol\":\"circle\"},\"mode\":\"markers\",\"name\":\"M\",\"orientation\":\"v\",\"showlegend\":false,\"x\":[140,140,110,100,124,125,130,140,120,120,110,130,120,150,112,140,120,160,150,120,140,118,130,150,150,140,170,140,130,160,130,120,130,130,120,118,140,150,140,120,110,110,170,150,140,150,160,140,160,140,110,130,120,155,110,140,130,140,128,140,135,140,140,140,130,140,110,120,180,180,120,120,150,125,106,150,110,130,145,92,130,112,120,160,160,200,160,122,130,130,135,120,125,145,120,130,130,130,120,140,170,150,140,140,130,115,105,145,110,110,110,160,125,95,115,115,95,155,125,125,115,80,140,130,145,100,115,100,105,125,95,130,115,95,130,150,140,100,110,110,130,120,135,120,115,137,110,120,140,120,130,120,115,160,120,150,135,140,150,135,150,185,135,125,160,140,120,160,115,115,120,150,145,130,140,160,140,115,130,150,160,135,170,165,130,145,135,120,140,115,110,150,180,125,130,140,130,132,142,150,140,110,128,120,170,110,126,152,116,120,130,128,130,120,130,124,160,144,140,120,136,154,125,134,104,139,136,122,128,152,126,138,154,178,132,110,130,120,134,140,136,170,142,132,146,160,135,136,130,140,132,158,136,120,110,136,160,122,150,96,130,120,144,124,150,144,143,133,143,116,110,125,130,150,130,110,170,132,112,172,160,134,140,135,144,141,150,130,110,158,128,140,150,160,142,137,139,146,156,145,131,140,122,141,124,140,100,190,130,160,130,122,120,130,130,155,160,144,158,134,122,140,130,128,120,110,140,135,142,140,140,120,115,112,160,170,144,130,140,122,152,110,136,138,150,140,120,142,104,146,120,150,110,150,124,110,125,110,120,100,120,165,130,124,140,120,130,122,152,120,117,112,140,120,125,132,145,138,123,112,110,140,128,110,100,140,125,110,132,108,140,145,126,125,125,125,140,160,128,110,135,130,118,115,128,120,130,110,145,120,112,132,150,130,140,160,132,128,110,148,114,120,140,164,144,130],\"xaxis\":\"x3\",\"y\":[1,1,1,1,0,1,1,1,1,0,1,1,1,0,1,0,1,1,0,1,1,1,1,1,1,1,1,0,0,1,1,0,1,0,1,1,0,1,0,1,0,1,1,1,1,1,1,1,1,0,0,1,0,1,1,0,1,1,1,1,0,1,1,1,1,1,0,1,1,0,0,1,0,1,1,1,1,1,1,1,0,0,1,1,1,1,1,1,1,1,1,1,0,1,1,1,1,1,0,1,1,1,0,0,0,1,1,1,1,1,1,1,1,1,1,1,1,0,1,1,1,0,1,1,1,1,1,1,1,1,1,1,1,1,1,1,1,1,1,1,1,1,1,1,1,1,1,1,1,1,1,1,1,1,1,1,1,1,1,1,1,1,1,1,1,1,1,1,1,1,1,1,1,1,1,1,1,1,1,1,1,1,1,1,1,1,1,1,1,1,1,1,1,1,1,1,0,1,1,1,1,1,1,0,1,1,0,0,1,1,1,1,1,1,1,1,1,1,1,0,1,0,1,1,0,1,1,1,0,1,1,1,1,1,0,1,1,1,1,1,1,1,1,0,1,1,1,1,1,1,0,1,1,1,1,0,1,1,1,1,0,1,1,1,0,1,1,1,1,1,1,1,1,1,1,0,1,0,1,1,0,1,0,1,1,1,0,1,1,1,1,1,1,1,1,1,1,1,1,1,1,1,1,1,1,1,0,1,1,1,1,1,1,1,0,1,1,1,1,1,1,0,1,0,0,1,1,0,0,1,1,1,0,0,0,1,1,1,1,0,1,1,1,1,1,0,1,1,0,1,1,1,0,1,1,1,1,1,0,1,1,1,1,1,1,1,1,1,1,1,1,1,0,1,1,0,1,0,1,1,1,1,1,0,1,1,1,1,1,0,0,1,1,1,1,1,1,1,1,1,1,1,1,0,1,1,1,1,1,1,1,1,0,1,0,1,1,1,1,1,1,1,1,1,1,1],\"yaxis\":\"y3\",\"type\":\"scatter\"},{\"hovertemplate\":\"Sex=M<br>ChestPainType=TA<br>RestingBP=%{x}<br>HeartDisease=%{y}<br>Age=%{marker.size}<extra></extra>\",\"legendgroup\":\"M\",\"marker\":{\"color\":\"#636efa\",\"size\":[43,34,46,47,55,54,32,62,67,67,65,49,62,61,68,74,62,61,64,40,59,63,42,59,51,56,38,65,69,34,52,59,52,59,64,45],\"sizemode\":\"area\",\"sizeref\":0.1925,\"symbol\":\"circle\"},\"mode\":\"markers\",\"name\":\"M\",\"orientation\":\"v\",\"showlegend\":false,\"x\":[120,140,140,110,140,120,95,120,145,142,140,130,112,142,139,145,135,134,110,140,160,145,148,178,125,120,120,138,160,118,152,170,118,134,170,110],\"xaxis\":\"x4\",\"y\":[1,1,1,0,1,0,1,1,1,1,0,1,1,1,0,1,0,1,0,0,1,0,0,0,0,0,1,1,0,0,0,1,0,1,0,1],\"yaxis\":\"y4\",\"type\":\"scatter\"},{\"hovertemplate\":\"Sex=F<br>ChestPainType=ATA<br>RestingBP=%{x}<br>HeartDisease=%{y}<br>Age=%{marker.size}<extra></extra>\",\"legendgroup\":\"F\",\"marker\":{\"color\":\"#EF553B\",\"size\":[45,48,54,43,49,53,43,41,48,54,41,51,50,37,53,49,52,59,58,34,54,43,56,43,52,54,41,31,38,54,43,55,55,54,32,45,54,55,48,47,63,61,74,54,63,45,41,58,41,50,45,49,34,46,55,41,71,56,55,57],\"sizemode\":\"area\",\"sizeref\":0.1925,\"symbol\":\"circle\"},\"mode\":\"markers\",\"name\":\"F\",\"orientation\":\"v\",\"showlegend\":true,\"x\":[130,120,120,120,124,113,150,110,120,150,130,160,110,120,140,110,120,130,180,130,120,120,120,120,140,160,125,100,120,140,120,130,122,120,105,180,130,110,133,140,132,140,120,132,140,130,105,136,126,120,112,134,118,105,135,130,160,140,132,130],\"xaxis\":\"x\",\"y\":[0,0,0,0,0,0,0,0,0,0,0,0,0,0,0,0,0,0,1,0,0,0,1,0,0,0,0,0,0,0,0,0,0,0,0,0,0,0,0,0,0,0,0,0,0,0,0,1,0,0,0,0,0,0,0,0,0,0,0,1],\"yaxis\":\"y\",\"type\":\"scatter\"},{\"hovertemplate\":\"Sex=F<br>ChestPainType=NAP<br>RestingBP=%{x}<br>HeartDisease=%{y}<br>Age=%{marker.size}<extra></extra>\",\"legendgroup\":\"F\",\"marker\":{\"color\":\"#EF553B\",\"size\":[49,37,42,54,43,39,49,47,52,50,56,48,53,51,47,51,51,73,67,48,51,71,37,65,60,44,76,39,42,64,44,54,65,54,52,46,67,41,50,54,51,68,54,60,43,63,62,51,65,58,53,66,39],\"sizemode\":\"area\",\"sizeref\":0.1925,\"symbol\":\"circle\"},\"mode\":\"markers\",\"name\":\"F\",\"orientation\":\"v\",\"showlegend\":false,\"x\":[160,130,115,130,150,110,130,135,125,140,130,120,120,150,130,130,110,160,115,130,120,110,120,140,120,118,140,94,120,140,108,135,160,160,136,142,152,112,120,108,130,120,110,102,122,135,130,140,155,120,128,146,138],\"xaxis\":\"x2\",\"y\":[1,0,0,1,0,0,0,1,0,1,0,0,0,0,0,0,0,1,0,0,0,0,0,0,0,0,0,0,0,0,0,0,0,0,0,0,0,0,0,0,0,0,0,0,0,0,1,0,0,0,0,0,0],\"yaxis\":\"y2\",\"type\":\"scatter\"},{\"hovertemplate\":\"Sex=F<br>ChestPainType=ASY<br>RestingBP=%{x}<br>HeartDisease=%{y}<br>Age=%{marker.size}<extra></extra>\",\"legendgroup\":\"F\",\"marker\":{\"color\":\"#EF553B\",\"size\":[48,48,47,52,45,44,35,40,48,33,59,48,61,46,50,51,37,57,62,51,38,64,64,38,50,66,64,54,51,54,63,57,71,46,62,65,59,51,57,67,61,49,60,55,60,56,63,64,66,62,64,50,45,62,56,42,62,58,35,43,61,62,53,53,62,58,55,58,63,57],\"sizemode\":\"area\",\"sizeref\":0.1925,\"symbol\":\"circle\"},\"mode\":\"markers\",\"name\":\"F\",\"orientation\":\"v\",\"showlegend\":false,\"x\":[138,150,120,130,132,120,140,150,120,100,130,108,130,130,120,160,130,180,120,120,105,95,200,110,160,155,142,138,114,127,150,128,112,138,124,150,174,130,120,106,130,130,150,180,158,200,108,130,178,150,180,110,138,138,134,102,140,100,138,132,145,160,138,130,140,130,128,170,124,140],\"xaxis\":\"x3\",\"y\":[1,0,1,0,0,0,0,1,0,1,1,0,0,0,0,1,0,0,1,1,1,1,1,1,1,1,1,1,0,1,1,0,0,0,0,1,1,1,0,0,1,0,1,1,1,1,1,0,1,1,0,0,0,1,1,0,0,0,0,1,1,1,0,0,1,0,1,1,1,1],\"yaxis\":\"y3\",\"type\":\"scatter\"},{\"hovertemplate\":\"Sex=F<br>ChestPainType=TA<br>RestingBP=%{x}<br>HeartDisease=%{y}<br>Age=%{marker.size}<extra></extra>\",\"legendgroup\":\"F\",\"marker\":{\"color\":\"#EF553B\",\"size\":[43,35,62,57,30,62,60,66,69,58],\"sizemode\":\"area\",\"sizeref\":0.1925,\"symbol\":\"circle\"},\"mode\":\"markers\",\"name\":\"F\",\"orientation\":\"v\",\"showlegend\":false,\"x\":[100,120,160,130,170,140,150,150,140,150],\"xaxis\":\"x4\",\"y\":[0,0,0,0,0,1,0,0,0,0],\"yaxis\":\"y4\",\"type\":\"scatter\"}],                        {\"template\":{\"data\":{\"bar\":[{\"error_x\":{\"color\":\"#2a3f5f\"},\"error_y\":{\"color\":\"#2a3f5f\"},\"marker\":{\"line\":{\"color\":\"#E5ECF6\",\"width\":0.5},\"pattern\":{\"fillmode\":\"overlay\",\"size\":10,\"solidity\":0.2}},\"type\":\"bar\"}],\"barpolar\":[{\"marker\":{\"line\":{\"color\":\"#E5ECF6\",\"width\":0.5},\"pattern\":{\"fillmode\":\"overlay\",\"size\":10,\"solidity\":0.2}},\"type\":\"barpolar\"}],\"carpet\":[{\"aaxis\":{\"endlinecolor\":\"#2a3f5f\",\"gridcolor\":\"white\",\"linecolor\":\"white\",\"minorgridcolor\":\"white\",\"startlinecolor\":\"#2a3f5f\"},\"baxis\":{\"endlinecolor\":\"#2a3f5f\",\"gridcolor\":\"white\",\"linecolor\":\"white\",\"minorgridcolor\":\"white\",\"startlinecolor\":\"#2a3f5f\"},\"type\":\"carpet\"}],\"choropleth\":[{\"colorbar\":{\"outlinewidth\":0,\"ticks\":\"\"},\"type\":\"choropleth\"}],\"contour\":[{\"colorbar\":{\"outlinewidth\":0,\"ticks\":\"\"},\"colorscale\":[[0.0,\"#0d0887\"],[0.1111111111111111,\"#46039f\"],[0.2222222222222222,\"#7201a8\"],[0.3333333333333333,\"#9c179e\"],[0.4444444444444444,\"#bd3786\"],[0.5555555555555556,\"#d8576b\"],[0.6666666666666666,\"#ed7953\"],[0.7777777777777778,\"#fb9f3a\"],[0.8888888888888888,\"#fdca26\"],[1.0,\"#f0f921\"]],\"type\":\"contour\"}],\"contourcarpet\":[{\"colorbar\":{\"outlinewidth\":0,\"ticks\":\"\"},\"type\":\"contourcarpet\"}],\"heatmap\":[{\"colorbar\":{\"outlinewidth\":0,\"ticks\":\"\"},\"colorscale\":[[0.0,\"#0d0887\"],[0.1111111111111111,\"#46039f\"],[0.2222222222222222,\"#7201a8\"],[0.3333333333333333,\"#9c179e\"],[0.4444444444444444,\"#bd3786\"],[0.5555555555555556,\"#d8576b\"],[0.6666666666666666,\"#ed7953\"],[0.7777777777777778,\"#fb9f3a\"],[0.8888888888888888,\"#fdca26\"],[1.0,\"#f0f921\"]],\"type\":\"heatmap\"}],\"heatmapgl\":[{\"colorbar\":{\"outlinewidth\":0,\"ticks\":\"\"},\"colorscale\":[[0.0,\"#0d0887\"],[0.1111111111111111,\"#46039f\"],[0.2222222222222222,\"#7201a8\"],[0.3333333333333333,\"#9c179e\"],[0.4444444444444444,\"#bd3786\"],[0.5555555555555556,\"#d8576b\"],[0.6666666666666666,\"#ed7953\"],[0.7777777777777778,\"#fb9f3a\"],[0.8888888888888888,\"#fdca26\"],[1.0,\"#f0f921\"]],\"type\":\"heatmapgl\"}],\"histogram\":[{\"marker\":{\"pattern\":{\"fillmode\":\"overlay\",\"size\":10,\"solidity\":0.2}},\"type\":\"histogram\"}],\"histogram2d\":[{\"colorbar\":{\"outlinewidth\":0,\"ticks\":\"\"},\"colorscale\":[[0.0,\"#0d0887\"],[0.1111111111111111,\"#46039f\"],[0.2222222222222222,\"#7201a8\"],[0.3333333333333333,\"#9c179e\"],[0.4444444444444444,\"#bd3786\"],[0.5555555555555556,\"#d8576b\"],[0.6666666666666666,\"#ed7953\"],[0.7777777777777778,\"#fb9f3a\"],[0.8888888888888888,\"#fdca26\"],[1.0,\"#f0f921\"]],\"type\":\"histogram2d\"}],\"histogram2dcontour\":[{\"colorbar\":{\"outlinewidth\":0,\"ticks\":\"\"},\"colorscale\":[[0.0,\"#0d0887\"],[0.1111111111111111,\"#46039f\"],[0.2222222222222222,\"#7201a8\"],[0.3333333333333333,\"#9c179e\"],[0.4444444444444444,\"#bd3786\"],[0.5555555555555556,\"#d8576b\"],[0.6666666666666666,\"#ed7953\"],[0.7777777777777778,\"#fb9f3a\"],[0.8888888888888888,\"#fdca26\"],[1.0,\"#f0f921\"]],\"type\":\"histogram2dcontour\"}],\"mesh3d\":[{\"colorbar\":{\"outlinewidth\":0,\"ticks\":\"\"},\"type\":\"mesh3d\"}],\"parcoords\":[{\"line\":{\"colorbar\":{\"outlinewidth\":0,\"ticks\":\"\"}},\"type\":\"parcoords\"}],\"pie\":[{\"automargin\":true,\"type\":\"pie\"}],\"scatter\":[{\"marker\":{\"colorbar\":{\"outlinewidth\":0,\"ticks\":\"\"}},\"type\":\"scatter\"}],\"scatter3d\":[{\"line\":{\"colorbar\":{\"outlinewidth\":0,\"ticks\":\"\"}},\"marker\":{\"colorbar\":{\"outlinewidth\":0,\"ticks\":\"\"}},\"type\":\"scatter3d\"}],\"scattercarpet\":[{\"marker\":{\"colorbar\":{\"outlinewidth\":0,\"ticks\":\"\"}},\"type\":\"scattercarpet\"}],\"scattergeo\":[{\"marker\":{\"colorbar\":{\"outlinewidth\":0,\"ticks\":\"\"}},\"type\":\"scattergeo\"}],\"scattergl\":[{\"marker\":{\"colorbar\":{\"outlinewidth\":0,\"ticks\":\"\"}},\"type\":\"scattergl\"}],\"scattermapbox\":[{\"marker\":{\"colorbar\":{\"outlinewidth\":0,\"ticks\":\"\"}},\"type\":\"scattermapbox\"}],\"scatterpolar\":[{\"marker\":{\"colorbar\":{\"outlinewidth\":0,\"ticks\":\"\"}},\"type\":\"scatterpolar\"}],\"scatterpolargl\":[{\"marker\":{\"colorbar\":{\"outlinewidth\":0,\"ticks\":\"\"}},\"type\":\"scatterpolargl\"}],\"scatterternary\":[{\"marker\":{\"colorbar\":{\"outlinewidth\":0,\"ticks\":\"\"}},\"type\":\"scatterternary\"}],\"surface\":[{\"colorbar\":{\"outlinewidth\":0,\"ticks\":\"\"},\"colorscale\":[[0.0,\"#0d0887\"],[0.1111111111111111,\"#46039f\"],[0.2222222222222222,\"#7201a8\"],[0.3333333333333333,\"#9c179e\"],[0.4444444444444444,\"#bd3786\"],[0.5555555555555556,\"#d8576b\"],[0.6666666666666666,\"#ed7953\"],[0.7777777777777778,\"#fb9f3a\"],[0.8888888888888888,\"#fdca26\"],[1.0,\"#f0f921\"]],\"type\":\"surface\"}],\"table\":[{\"cells\":{\"fill\":{\"color\":\"#EBF0F8\"},\"line\":{\"color\":\"white\"}},\"header\":{\"fill\":{\"color\":\"#C8D4E3\"},\"line\":{\"color\":\"white\"}},\"type\":\"table\"}]},\"layout\":{\"annotationdefaults\":{\"arrowcolor\":\"#2a3f5f\",\"arrowhead\":0,\"arrowwidth\":1},\"autotypenumbers\":\"strict\",\"coloraxis\":{\"colorbar\":{\"outlinewidth\":0,\"ticks\":\"\"}},\"colorscale\":{\"diverging\":[[0,\"#8e0152\"],[0.1,\"#c51b7d\"],[0.2,\"#de77ae\"],[0.3,\"#f1b6da\"],[0.4,\"#fde0ef\"],[0.5,\"#f7f7f7\"],[0.6,\"#e6f5d0\"],[0.7,\"#b8e186\"],[0.8,\"#7fbc41\"],[0.9,\"#4d9221\"],[1,\"#276419\"]],\"sequential\":[[0.0,\"#0d0887\"],[0.1111111111111111,\"#46039f\"],[0.2222222222222222,\"#7201a8\"],[0.3333333333333333,\"#9c179e\"],[0.4444444444444444,\"#bd3786\"],[0.5555555555555556,\"#d8576b\"],[0.6666666666666666,\"#ed7953\"],[0.7777777777777778,\"#fb9f3a\"],[0.8888888888888888,\"#fdca26\"],[1.0,\"#f0f921\"]],\"sequentialminus\":[[0.0,\"#0d0887\"],[0.1111111111111111,\"#46039f\"],[0.2222222222222222,\"#7201a8\"],[0.3333333333333333,\"#9c179e\"],[0.4444444444444444,\"#bd3786\"],[0.5555555555555556,\"#d8576b\"],[0.6666666666666666,\"#ed7953\"],[0.7777777777777778,\"#fb9f3a\"],[0.8888888888888888,\"#fdca26\"],[1.0,\"#f0f921\"]]},\"colorway\":[\"#636efa\",\"#EF553B\",\"#00cc96\",\"#ab63fa\",\"#FFA15A\",\"#19d3f3\",\"#FF6692\",\"#B6E880\",\"#FF97FF\",\"#FECB52\"],\"font\":{\"color\":\"#2a3f5f\"},\"geo\":{\"bgcolor\":\"white\",\"lakecolor\":\"white\",\"landcolor\":\"#E5ECF6\",\"showlakes\":true,\"showland\":true,\"subunitcolor\":\"white\"},\"hoverlabel\":{\"align\":\"left\"},\"hovermode\":\"closest\",\"mapbox\":{\"style\":\"light\"},\"paper_bgcolor\":\"white\",\"plot_bgcolor\":\"#E5ECF6\",\"polar\":{\"angularaxis\":{\"gridcolor\":\"white\",\"linecolor\":\"white\",\"ticks\":\"\"},\"bgcolor\":\"#E5ECF6\",\"radialaxis\":{\"gridcolor\":\"white\",\"linecolor\":\"white\",\"ticks\":\"\"}},\"scene\":{\"xaxis\":{\"backgroundcolor\":\"#E5ECF6\",\"gridcolor\":\"white\",\"gridwidth\":2,\"linecolor\":\"white\",\"showbackground\":true,\"ticks\":\"\",\"zerolinecolor\":\"white\"},\"yaxis\":{\"backgroundcolor\":\"#E5ECF6\",\"gridcolor\":\"white\",\"gridwidth\":2,\"linecolor\":\"white\",\"showbackground\":true,\"ticks\":\"\",\"zerolinecolor\":\"white\"},\"zaxis\":{\"backgroundcolor\":\"#E5ECF6\",\"gridcolor\":\"white\",\"gridwidth\":2,\"linecolor\":\"white\",\"showbackground\":true,\"ticks\":\"\",\"zerolinecolor\":\"white\"}},\"shapedefaults\":{\"line\":{\"color\":\"#2a3f5f\"}},\"ternary\":{\"aaxis\":{\"gridcolor\":\"white\",\"linecolor\":\"white\",\"ticks\":\"\"},\"baxis\":{\"gridcolor\":\"white\",\"linecolor\":\"white\",\"ticks\":\"\"},\"bgcolor\":\"#E5ECF6\",\"caxis\":{\"gridcolor\":\"white\",\"linecolor\":\"white\",\"ticks\":\"\"}},\"title\":{\"x\":0.05},\"xaxis\":{\"automargin\":true,\"gridcolor\":\"white\",\"linecolor\":\"white\",\"ticks\":\"\",\"title\":{\"standoff\":15},\"zerolinecolor\":\"white\",\"zerolinewidth\":2},\"yaxis\":{\"automargin\":true,\"gridcolor\":\"white\",\"linecolor\":\"white\",\"ticks\":\"\",\"title\":{\"standoff\":15},\"zerolinecolor\":\"white\",\"zerolinewidth\":2}}},\"xaxis\":{\"anchor\":\"y\",\"domain\":[0.0,0.235],\"title\":{\"text\":\"RestingBP\"}},\"yaxis\":{\"anchor\":\"x\",\"domain\":[0.0,1.0],\"title\":{\"text\":\"HeartDisease\"}},\"xaxis2\":{\"anchor\":\"y2\",\"domain\":[0.255,0.49],\"matches\":\"x\",\"title\":{\"text\":\"RestingBP\"}},\"yaxis2\":{\"anchor\":\"x2\",\"domain\":[0.0,1.0],\"matches\":\"y\",\"showticklabels\":false},\"xaxis3\":{\"anchor\":\"y3\",\"domain\":[0.51,0.745],\"matches\":\"x\",\"title\":{\"text\":\"RestingBP\"}},\"yaxis3\":{\"anchor\":\"x3\",\"domain\":[0.0,1.0],\"matches\":\"y\",\"showticklabels\":false},\"xaxis4\":{\"anchor\":\"y4\",\"domain\":[0.7649999999999999,0.9999999999999999],\"matches\":\"x\",\"title\":{\"text\":\"RestingBP\"}},\"yaxis4\":{\"anchor\":\"x4\",\"domain\":[0.0,1.0],\"matches\":\"y\",\"showticklabels\":false},\"annotations\":[{\"font\":{},\"showarrow\":false,\"text\":\"ChestPainType=ATA\",\"x\":0.1175,\"xanchor\":\"center\",\"xref\":\"paper\",\"y\":1.0,\"yanchor\":\"bottom\",\"yref\":\"paper\"},{\"font\":{},\"showarrow\":false,\"text\":\"ChestPainType=NAP\",\"x\":0.3725,\"xanchor\":\"center\",\"xref\":\"paper\",\"y\":1.0,\"yanchor\":\"bottom\",\"yref\":\"paper\"},{\"font\":{},\"showarrow\":false,\"text\":\"ChestPainType=ASY\",\"x\":0.6275,\"xanchor\":\"center\",\"xref\":\"paper\",\"y\":1.0,\"yanchor\":\"bottom\",\"yref\":\"paper\"},{\"font\":{},\"showarrow\":false,\"text\":\"ChestPainType=TA\",\"x\":0.8824999999999998,\"xanchor\":\"center\",\"xref\":\"paper\",\"y\":1.0,\"yanchor\":\"bottom\",\"yref\":\"paper\"}],\"legend\":{\"title\":{\"text\":\"Sex\"},\"tracegroupgap\":0,\"itemsizing\":\"constant\"},\"margin\":{\"t\":60}},                        {\"responsive\": true}                    ).then(function(){\n",
              "                            \n",
              "var gd = document.getElementById('22bb33be-0703-404e-af80-47eb454e9152');\n",
              "var x = new MutationObserver(function (mutations, observer) {{\n",
              "        var display = window.getComputedStyle(gd).display;\n",
              "        if (!display || display === 'none') {{\n",
              "            console.log([gd, 'removed!']);\n",
              "            Plotly.purge(gd);\n",
              "            observer.disconnect();\n",
              "        }}\n",
              "}});\n",
              "\n",
              "// Listen for the removal of the full notebook cells\n",
              "var notebookContainer = gd.closest('#notebook-container');\n",
              "if (notebookContainer) {{\n",
              "    x.observe(notebookContainer, {childList: true});\n",
              "}}\n",
              "\n",
              "// Listen for the clearing of the current output cell\n",
              "var outputEl = gd.closest('.output');\n",
              "if (outputEl) {{\n",
              "    x.observe(outputEl, {childList: true});\n",
              "}}\n",
              "\n",
              "                        })                };                            </script>        </div>\n",
              "</body>\n",
              "</html>"
            ]
          },
          "metadata": {}
        },
        {
          "name": "stdout",
          "output_type": "stream",
          "text": [
            "Presione A, si desea datos estadísticos de la data\n",
            "Presione B, si desea visualizar un gráfico de dispersión de datos\n",
            "Presione C, si desea visualizar un histograma\n",
            "Presione D, si no desea visualizar ningún gráfico o análisis estadístico\n",
            "Que opcion elige:C\n",
            "Presione H si desea un histograma para una columna:\n",
            "Presione HD si desea un histograma diferenciada entre HeartDisease y la variable que ingrese:\n",
            "Que opcion elige: H\n",
            "['Age', 'Sex', 'ChestPainType', 'RestingBP', 'Cholesterol', 'FastingBS', 'RestingECG', 'MaxHR', 'ExerciseAngina', 'Oldpeak', 'ST_Slope', 'HeartDisease']\n",
            "Ingrese el nombre de la columna: Cholesterol\n",
            "Cantidad de intervalos que desea: 15\n"
          ]
        },
        {
          "output_type": "display_data",
          "data": {
            "image/png": "[encoded data removed]",
            "text/plain": [
              "<Figure size 432x288 with 1 Axes>"
            ]
          },
          "metadata": {}
        },
        {
          "name": "stdout",
          "output_type": "stream",
          "text": [
            "Presione A, si desea datos estadísticos de la data\n",
            "Presione B, si desea visualizar un gráfico de dispersión de datos\n",
            "Presione C, si desea visualizar un histograma\n",
            "Presione D, si no desea visualizar ningún gráfico o análisis estadístico\n",
            "Que opcion elige:C\n",
            "Presione H si desea un histograma para una columna:\n",
            "Presione HD si desea un histograma diferenciada entre HeartDisease y la variable que ingrese:\n",
            "Que opcion elige: HD\n",
            "['Age', 'Sex', 'ChestPainType', 'RestingBP', 'Cholesterol', 'FastingBS', 'RestingECG', 'MaxHR', 'ExerciseAngina', 'Oldpeak', 'ST_Slope', 'HeartDisease']\n",
            "Ingrese el nombre de la columna: Sex\n",
            "Cantidad de intervalos: 2\n"
          ]
        },
        {
          "output_type": "display_data",
          "data": {
            "text/html": [
              "<html>\n",
              "<head><meta charset=\"utf-8\" /></head>\n",
              "<body>\n",
              "    <div>            <script src=\"https://cdnjs.cloudflare.com/ajax/libs/mathjax/2.7.5/MathJax.js?config=TeX-AMS-MML_SVG\"></script><script type=\"text/javascript\">if (window.MathJax) {MathJax.Hub.Config({SVG: {font: \"STIX-Web\"}});}</script>                <script type=\"text/javascript\">window.PlotlyConfig = {MathJaxConfig: 'local'};</script>\n",
              "        <script src=\"https://cdn.plot.ly/plotly-2.8.3.min.js\"></script>                <div id=\"39d189c9-4873-4b8e-9b7f-bfaf72371a37\" class=\"plotly-graph-div\" style=\"height:525px; width:100%;\"></div>            <script type=\"text/javascript\">                                    window.PLOTLYENV=window.PLOTLYENV || {};                                    if (document.getElementById(\"39d189c9-4873-4b8e-9b7f-bfaf72371a37\")) {                    Plotly.newPlot(                        \"39d189c9-4873-4b8e-9b7f-bfaf72371a37\",                        [{\"alignmentgroup\":\"True\",\"bingroup\":\"x\",\"hovertemplate\":\"HeartDisease=0<br>Sex=%{x}<br>count=%{y}<extra></extra>\",\"legendgroup\":\"0\",\"marker\":{\"color\":\"#636efa\",\"pattern\":{\"shape\":\"\"}},\"name\":\"0\",\"nbinsx\":2,\"offsetgroup\":\"0\",\"orientation\":\"v\",\"showlegend\":true,\"x\":[\"M\",\"M\",\"M\",\"M\",\"F\",\"M\",\"F\",\"F\",\"M\",\"F\",\"F\",\"F\",\"F\",\"M\",\"F\",\"M\",\"M\",\"M\",\"M\",\"F\",\"M\",\"M\",\"F\",\"M\",\"F\",\"F\",\"F\",\"F\",\"M\",\"M\",\"M\",\"M\",\"M\",\"M\",\"M\",\"F\",\"F\",\"F\",\"M\",\"M\",\"F\",\"M\",\"F\",\"F\",\"F\",\"M\",\"M\",\"M\",\"F\",\"M\",\"F\",\"M\",\"M\",\"M\",\"M\",\"F\",\"M\",\"F\",\"M\",\"F\",\"F\",\"M\",\"M\",\"M\",\"M\",\"M\",\"M\",\"F\",\"M\",\"M\",\"M\",\"F\",\"M\",\"M\",\"F\",\"F\",\"F\",\"M\",\"M\",\"M\",\"F\",\"F\",\"F\",\"M\",\"M\",\"F\",\"F\",\"M\",\"M\",\"M\",\"M\",\"F\",\"M\",\"M\",\"M\",\"M\",\"M\",\"M\",\"M\",\"M\",\"M\",\"M\",\"F\",\"M\",\"M\",\"M\",\"M\",\"M\",\"M\",\"M\",\"M\",\"M\",\"F\",\"M\",\"M\",\"F\",\"M\",\"F\",\"M\",\"M\",\"M\",\"M\",\"F\",\"F\",\"M\",\"M\",\"F\",\"M\",\"M\",\"M\",\"F\",\"M\",\"M\",\"M\",\"M\",\"M\",\"F\",\"F\",\"M\",\"M\",\"M\",\"F\",\"M\",\"M\",\"M\",\"M\",\"F\",\"M\",\"M\",\"F\",\"M\",\"F\",\"M\",\"M\",\"F\",\"M\",\"M\",\"M\",\"F\",\"F\",\"M\",\"F\",\"F\",\"M\",\"F\",\"M\",\"M\",\"F\",\"M\",\"F\",\"M\",\"F\",\"M\",\"F\",\"F\",\"M\",\"F\",\"F\",\"M\",\"F\",\"M\",\"M\",\"F\",\"M\",\"M\",\"F\",\"M\",\"M\",\"M\",\"M\",\"M\",\"M\",\"M\",\"M\",\"M\",\"M\",\"M\",\"M\",\"M\",\"M\",\"M\",\"M\",\"M\",\"M\",\"M\",\"M\",\"M\",\"M\",\"M\",\"F\",\"M\",\"M\",\"M\",\"M\",\"M\",\"M\",\"M\",\"M\",\"M\",\"M\",\"M\",\"M\",\"M\",\"M\",\"M\",\"M\",\"F\",\"M\",\"M\",\"M\",\"M\",\"M\",\"M\",\"M\",\"M\",\"M\",\"M\",\"M\",\"M\",\"M\",\"M\",\"M\",\"M\",\"F\",\"M\",\"M\",\"F\",\"M\",\"F\",\"M\",\"M\",\"M\",\"M\",\"F\",\"F\",\"M\",\"M\",\"M\",\"M\",\"M\",\"F\",\"F\",\"F\",\"F\",\"F\",\"M\",\"F\",\"M\",\"M\",\"F\",\"M\",\"M\",\"M\",\"M\",\"F\",\"F\",\"F\",\"F\",\"F\",\"M\",\"M\",\"F\",\"M\",\"M\",\"F\",\"F\",\"M\",\"F\",\"F\",\"M\",\"F\",\"F\",\"M\",\"M\",\"M\",\"M\",\"M\",\"M\",\"F\",\"M\",\"M\",\"F\",\"F\",\"F\",\"F\",\"M\",\"F\",\"M\",\"F\",\"M\",\"F\",\"F\",\"F\",\"M\",\"F\",\"F\",\"M\",\"M\",\"M\",\"F\",\"F\",\"F\",\"M\",\"M\",\"M\",\"F\",\"M\",\"F\",\"F\",\"F\",\"F\",\"F\",\"M\",\"M\",\"M\",\"M\",\"F\",\"F\",\"M\",\"F\",\"M\",\"F\",\"M\",\"M\",\"M\",\"F\",\"M\",\"M\",\"M\",\"F\",\"M\",\"M\",\"M\",\"F\",\"F\",\"F\",\"F\",\"M\",\"M\",\"F\",\"M\",\"M\",\"M\",\"F\",\"M\",\"F\",\"F\",\"M\",\"M\",\"M\",\"M\",\"F\",\"M\",\"F\",\"M\",\"M\",\"M\",\"F\",\"M\",\"M\",\"M\",\"F\",\"F\",\"F\",\"M\",\"M\",\"M\",\"F\",\"M\",\"M\",\"F\",\"M\",\"M\",\"M\",\"F\",\"M\",\"F\",\"M\",\"M\",\"F\",\"F\",\"F\",\"M\",\"M\",\"M\",\"M\",\"M\",\"F\",\"M\",\"M\"],\"xaxis\":\"x\",\"yaxis\":\"y\",\"type\":\"histogram\"},{\"alignmentgroup\":\"True\",\"bingroup\":\"x\",\"hovertemplate\":\"HeartDisease=1<br>Sex=%{x}<br>count=%{y}<extra></extra>\",\"legendgroup\":\"1\",\"marker\":{\"color\":\"#EF553B\",\"pattern\":{\"shape\":\"\"}},\"name\":\"1\",\"nbinsx\":2,\"offsetgroup\":\"1\",\"orientation\":\"v\",\"showlegend\":true,\"x\":[\"F\",\"F\",\"M\",\"M\",\"M\",\"M\",\"M\",\"M\",\"M\",\"M\",\"M\",\"M\",\"M\",\"F\",\"M\",\"M\",\"M\",\"F\",\"M\",\"M\",\"M\",\"M\",\"M\",\"M\",\"M\",\"M\",\"M\",\"M\",\"M\",\"M\",\"M\",\"M\",\"M\",\"M\",\"M\",\"M\",\"F\",\"M\",\"M\",\"M\",\"F\",\"M\",\"F\",\"M\",\"F\",\"F\",\"M\",\"M\",\"M\",\"M\",\"M\",\"M\",\"M\",\"M\",\"M\",\"F\",\"M\",\"M\",\"M\",\"M\",\"M\",\"M\",\"M\",\"M\",\"M\",\"M\",\"M\",\"M\",\"M\",\"M\",\"M\",\"M\",\"M\",\"M\",\"M\",\"M\",\"F\",\"M\",\"M\",\"M\",\"F\",\"M\",\"M\",\"M\",\"M\",\"M\",\"M\",\"M\",\"M\",\"M\",\"M\",\"M\",\"M\",\"M\",\"M\",\"M\",\"M\",\"M\",\"M\",\"M\",\"M\",\"M\",\"M\",\"M\",\"M\",\"M\",\"M\",\"M\",\"M\",\"M\",\"M\",\"M\",\"M\",\"M\",\"M\",\"F\",\"M\",\"F\",\"M\",\"M\",\"M\",\"M\",\"M\",\"M\",\"M\",\"M\",\"M\",\"M\",\"M\",\"M\",\"M\",\"F\",\"M\",\"M\",\"M\",\"M\",\"M\",\"M\",\"M\",\"M\",\"M\",\"M\",\"M\",\"M\",\"M\",\"F\",\"M\",\"M\",\"M\",\"M\",\"M\",\"M\",\"M\",\"M\",\"M\",\"M\",\"M\",\"M\",\"M\",\"M\",\"M\",\"M\",\"M\",\"M\",\"M\",\"M\",\"M\",\"M\",\"M\",\"M\",\"F\",\"M\",\"M\",\"M\",\"M\",\"M\",\"M\",\"M\",\"M\",\"M\",\"F\",\"M\",\"M\",\"M\",\"M\",\"M\",\"M\",\"M\",\"F\",\"M\",\"M\",\"M\",\"M\",\"M\",\"M\",\"M\",\"M\",\"M\",\"M\",\"M\",\"M\",\"F\",\"M\",\"M\",\"M\",\"F\",\"M\",\"M\",\"M\",\"M\",\"M\",\"M\",\"M\",\"M\",\"M\",\"M\",\"M\",\"M\",\"M\",\"M\",\"F\",\"M\",\"M\",\"M\",\"M\",\"M\",\"M\",\"M\",\"M\",\"M\",\"M\",\"M\",\"M\",\"M\",\"M\",\"M\",\"M\",\"M\",\"M\",\"M\",\"M\",\"M\",\"M\",\"M\",\"M\",\"M\",\"M\",\"M\",\"M\",\"M\",\"M\",\"M\",\"M\",\"M\",\"M\",\"M\",\"M\",\"M\",\"M\",\"M\",\"M\",\"M\",\"M\",\"M\",\"M\",\"M\",\"M\",\"M\",\"M\",\"M\",\"M\",\"M\",\"M\",\"M\",\"M\",\"M\",\"M\",\"M\",\"M\",\"M\",\"F\",\"M\",\"M\",\"M\",\"M\",\"M\",\"M\",\"M\",\"M\",\"M\",\"M\",\"M\",\"M\",\"M\",\"M\",\"M\",\"M\",\"M\",\"M\",\"M\",\"M\",\"M\",\"M\",\"M\",\"M\",\"M\",\"M\",\"M\",\"M\",\"M\",\"M\",\"M\",\"M\",\"M\",\"M\",\"M\",\"F\",\"M\",\"M\",\"M\",\"M\",\"M\",\"M\",\"M\",\"M\",\"M\",\"M\",\"M\",\"M\",\"M\",\"M\",\"M\",\"M\",\"M\",\"M\",\"M\",\"M\",\"M\",\"M\",\"M\",\"M\",\"M\",\"M\",\"M\",\"M\",\"M\",\"M\",\"M\",\"M\",\"M\",\"M\",\"M\",\"M\",\"M\",\"M\",\"M\",\"M\",\"M\",\"M\",\"M\",\"M\",\"M\",\"M\",\"M\",\"M\",\"M\",\"F\",\"M\",\"M\",\"M\",\"M\",\"M\",\"M\",\"M\",\"F\",\"M\",\"M\",\"M\",\"M\",\"M\",\"M\",\"M\",\"M\",\"M\",\"M\",\"M\",\"M\",\"M\",\"M\",\"M\",\"M\",\"F\",\"M\",\"M\",\"F\",\"M\",\"F\",\"M\",\"F\",\"M\",\"M\",\"M\",\"M\",\"M\",\"M\",\"M\",\"F\",\"M\",\"M\",\"M\",\"M\",\"M\",\"M\",\"M\",\"M\",\"M\",\"F\",\"M\",\"F\",\"F\",\"M\",\"F\",\"M\",\"M\",\"M\",\"M\",\"M\",\"M\",\"F\",\"M\",\"M\",\"M\",\"M\",\"M\",\"M\",\"M\",\"M\",\"M\",\"M\",\"M\",\"F\",\"M\",\"F\",\"M\",\"M\",\"M\",\"M\",\"F\",\"M\",\"M\",\"M\",\"F\",\"M\",\"M\",\"M\",\"M\",\"M\",\"M\",\"M\",\"M\",\"M\",\"M\",\"M\",\"M\",\"M\",\"M\",\"M\",\"M\",\"F\",\"F\",\"F\",\"M\",\"M\",\"F\",\"M\",\"M\",\"F\",\"M\",\"M\",\"M\",\"M\",\"M\",\"M\",\"M\",\"M\",\"M\",\"M\",\"M\",\"M\",\"M\",\"M\",\"M\",\"M\",\"M\",\"F\",\"M\",\"M\",\"F\",\"M\",\"M\",\"M\",\"F\",\"M\",\"F\",\"M\",\"M\",\"M\",\"F\"],\"xaxis\":\"x\",\"yaxis\":\"y\",\"type\":\"histogram\"}],                        {\"template\":{\"data\":{\"bar\":[{\"error_x\":{\"color\":\"#2a3f5f\"},\"error_y\":{\"color\":\"#2a3f5f\"},\"marker\":{\"line\":{\"color\":\"#E5ECF6\",\"width\":0.5},\"pattern\":{\"fillmode\":\"overlay\",\"size\":10,\"solidity\":0.2}},\"type\":\"bar\"}],\"barpolar\":[{\"marker\":{\"line\":{\"color\":\"#E5ECF6\",\"width\":0.5},\"pattern\":{\"fillmode\":\"overlay\",\"size\":10,\"solidity\":0.2}},\"type\":\"barpolar\"}],\"carpet\":[{\"aaxis\":{\"endlinecolor\":\"#2a3f5f\",\"gridcolor\":\"white\",\"linecolor\":\"white\",\"minorgridcolor\":\"white\",\"startlinecolor\":\"#2a3f5f\"},\"baxis\":{\"endlinecolor\":\"#2a3f5f\",\"gridcolor\":\"white\",\"linecolor\":\"white\",\"minorgridcolor\":\"white\",\"startlinecolor\":\"#2a3f5f\"},\"type\":\"carpet\"}],\"choropleth\":[{\"colorbar\":{\"outlinewidth\":0,\"ticks\":\"\"},\"type\":\"choropleth\"}],\"contour\":[{\"colorbar\":{\"outlinewidth\":0,\"ticks\":\"\"},\"colorscale\":[[0.0,\"#0d0887\"],[0.1111111111111111,\"#46039f\"],[0.2222222222222222,\"#7201a8\"],[0.3333333333333333,\"#9c179e\"],[0.4444444444444444,\"#bd3786\"],[0.5555555555555556,\"#d8576b\"],[0.6666666666666666,\"#ed7953\"],[0.7777777777777778,\"#fb9f3a\"],[0.8888888888888888,\"#fdca26\"],[1.0,\"#f0f921\"]],\"type\":\"contour\"}],\"contourcarpet\":[{\"colorbar\":{\"outlinewidth\":0,\"ticks\":\"\"},\"type\":\"contourcarpet\"}],\"heatmap\":[{\"colorbar\":{\"outlinewidth\":0,\"ticks\":\"\"},\"colorscale\":[[0.0,\"#0d0887\"],[0.1111111111111111,\"#46039f\"],[0.2222222222222222,\"#7201a8\"],[0.3333333333333333,\"#9c179e\"],[0.4444444444444444,\"#bd3786\"],[0.5555555555555556,\"#d8576b\"],[0.6666666666666666,\"#ed7953\"],[0.7777777777777778,\"#fb9f3a\"],[0.8888888888888888,\"#fdca26\"],[1.0,\"#f0f921\"]],\"type\":\"heatmap\"}],\"heatmapgl\":[{\"colorbar\":{\"outlinewidth\":0,\"ticks\":\"\"},\"colorscale\":[[0.0,\"#0d0887\"],[0.1111111111111111,\"#46039f\"],[0.2222222222222222,\"#7201a8\"],[0.3333333333333333,\"#9c179e\"],[0.4444444444444444,\"#bd3786\"],[0.5555555555555556,\"#d8576b\"],[0.6666666666666666,\"#ed7953\"],[0.7777777777777778,\"#fb9f3a\"],[0.8888888888888888,\"#fdca26\"],[1.0,\"#f0f921\"]],\"type\":\"heatmapgl\"}],\"histogram\":[{\"marker\":{\"pattern\":{\"fillmode\":\"overlay\",\"size\":10,\"solidity\":0.2}},\"type\":\"histogram\"}],\"histogram2d\":[{\"colorbar\":{\"outlinewidth\":0,\"ticks\":\"\"},\"colorscale\":[[0.0,\"#0d0887\"],[0.1111111111111111,\"#46039f\"],[0.2222222222222222,\"#7201a8\"],[0.3333333333333333,\"#9c179e\"],[0.4444444444444444,\"#bd3786\"],[0.5555555555555556,\"#d8576b\"],[0.6666666666666666,\"#ed7953\"],[0.7777777777777778,\"#fb9f3a\"],[0.8888888888888888,\"#fdca26\"],[1.0,\"#f0f921\"]],\"type\":\"histogram2d\"}],\"histogram2dcontour\":[{\"colorbar\":{\"outlinewidth\":0,\"ticks\":\"\"},\"colorscale\":[[0.0,\"#0d0887\"],[0.1111111111111111,\"#46039f\"],[0.2222222222222222,\"#7201a8\"],[0.3333333333333333,\"#9c179e\"],[0.4444444444444444,\"#bd3786\"],[0.5555555555555556,\"#d8576b\"],[0.6666666666666666,\"#ed7953\"],[0.7777777777777778,\"#fb9f3a\"],[0.8888888888888888,\"#fdca26\"],[1.0,\"#f0f921\"]],\"type\":\"histogram2dcontour\"}],\"mesh3d\":[{\"colorbar\":{\"outlinewidth\":0,\"ticks\":\"\"},\"type\":\"mesh3d\"}],\"parcoords\":[{\"line\":{\"colorbar\":{\"outlinewidth\":0,\"ticks\":\"\"}},\"type\":\"parcoords\"}],\"pie\":[{\"automargin\":true,\"type\":\"pie\"}],\"scatter\":[{\"marker\":{\"colorbar\":{\"outlinewidth\":0,\"ticks\":\"\"}},\"type\":\"scatter\"}],\"scatter3d\":[{\"line\":{\"colorbar\":{\"outlinewidth\":0,\"ticks\":\"\"}},\"marker\":{\"colorbar\":{\"outlinewidth\":0,\"ticks\":\"\"}},\"type\":\"scatter3d\"}],\"scattercarpet\":[{\"marker\":{\"colorbar\":{\"outlinewidth\":0,\"ticks\":\"\"}},\"type\":\"scattercarpet\"}],\"scattergeo\":[{\"marker\":{\"colorbar\":{\"outlinewidth\":0,\"ticks\":\"\"}},\"type\":\"scattergeo\"}],\"scattergl\":[{\"marker\":{\"colorbar\":{\"outlinewidth\":0,\"ticks\":\"\"}},\"type\":\"scattergl\"}],\"scattermapbox\":[{\"marker\":{\"colorbar\":{\"outlinewidth\":0,\"ticks\":\"\"}},\"type\":\"scattermapbox\"}],\"scatterpolar\":[{\"marker\":{\"colorbar\":{\"outlinewidth\":0,\"ticks\":\"\"}},\"type\":\"scatterpolar\"}],\"scatterpolargl\":[{\"marker\":{\"colorbar\":{\"outlinewidth\":0,\"ticks\":\"\"}},\"type\":\"scatterpolargl\"}],\"scatterternary\":[{\"marker\":{\"colorbar\":{\"outlinewidth\":0,\"ticks\":\"\"}},\"type\":\"scatterternary\"}],\"surface\":[{\"colorbar\":{\"outlinewidth\":0,\"ticks\":\"\"},\"colorscale\":[[0.0,\"#0d0887\"],[0.1111111111111111,\"#46039f\"],[0.2222222222222222,\"#7201a8\"],[0.3333333333333333,\"#9c179e\"],[0.4444444444444444,\"#bd3786\"],[0.5555555555555556,\"#d8576b\"],[0.6666666666666666,\"#ed7953\"],[0.7777777777777778,\"#fb9f3a\"],[0.8888888888888888,\"#fdca26\"],[1.0,\"#f0f921\"]],\"type\":\"surface\"}],\"table\":[{\"cells\":{\"fill\":{\"color\":\"#EBF0F8\"},\"line\":{\"color\":\"white\"}},\"header\":{\"fill\":{\"color\":\"#C8D4E3\"},\"line\":{\"color\":\"white\"}},\"type\":\"table\"}]},\"layout\":{\"annotationdefaults\":{\"arrowcolor\":\"#2a3f5f\",\"arrowhead\":0,\"arrowwidth\":1},\"autotypenumbers\":\"strict\",\"coloraxis\":{\"colorbar\":{\"outlinewidth\":0,\"ticks\":\"\"}},\"colorscale\":{\"diverging\":[[0,\"#8e0152\"],[0.1,\"#c51b7d\"],[0.2,\"#de77ae\"],[0.3,\"#f1b6da\"],[0.4,\"#fde0ef\"],[0.5,\"#f7f7f7\"],[0.6,\"#e6f5d0\"],[0.7,\"#b8e186\"],[0.8,\"#7fbc41\"],[0.9,\"#4d9221\"],[1,\"#276419\"]],\"sequential\":[[0.0,\"#0d0887\"],[0.1111111111111111,\"#46039f\"],[0.2222222222222222,\"#7201a8\"],[0.3333333333333333,\"#9c179e\"],[0.4444444444444444,\"#bd3786\"],[0.5555555555555556,\"#d8576b\"],[0.6666666666666666,\"#ed7953\"],[0.7777777777777778,\"#fb9f3a\"],[0.8888888888888888,\"#fdca26\"],[1.0,\"#f0f921\"]],\"sequentialminus\":[[0.0,\"#0d0887\"],[0.1111111111111111,\"#46039f\"],[0.2222222222222222,\"#7201a8\"],[0.3333333333333333,\"#9c179e\"],[0.4444444444444444,\"#bd3786\"],[0.5555555555555556,\"#d8576b\"],[0.6666666666666666,\"#ed7953\"],[0.7777777777777778,\"#fb9f3a\"],[0.8888888888888888,\"#fdca26\"],[1.0,\"#f0f921\"]]},\"colorway\":[\"#636efa\",\"#EF553B\",\"#00cc96\",\"#ab63fa\",\"#FFA15A\",\"#19d3f3\",\"#FF6692\",\"#B6E880\",\"#FF97FF\",\"#FECB52\"],\"font\":{\"color\":\"#2a3f5f\"},\"geo\":{\"bgcolor\":\"white\",\"lakecolor\":\"white\",\"landcolor\":\"#E5ECF6\",\"showlakes\":true,\"showland\":true,\"subunitcolor\":\"white\"},\"hoverlabel\":{\"align\":\"left\"},\"hovermode\":\"closest\",\"mapbox\":{\"style\":\"light\"},\"paper_bgcolor\":\"white\",\"plot_bgcolor\":\"#E5ECF6\",\"polar\":{\"angularaxis\":{\"gridcolor\":\"white\",\"linecolor\":\"white\",\"ticks\":\"\"},\"bgcolor\":\"#E5ECF6\",\"radialaxis\":{\"gridcolor\":\"white\",\"linecolor\":\"white\",\"ticks\":\"\"}},\"scene\":{\"xaxis\":{\"backgroundcolor\":\"#E5ECF6\",\"gridcolor\":\"white\",\"gridwidth\":2,\"linecolor\":\"white\",\"showbackground\":true,\"ticks\":\"\",\"zerolinecolor\":\"white\"},\"yaxis\":{\"backgroundcolor\":\"#E5ECF6\",\"gridcolor\":\"white\",\"gridwidth\":2,\"linecolor\":\"white\",\"showbackground\":true,\"ticks\":\"\",\"zerolinecolor\":\"white\"},\"zaxis\":{\"backgroundcolor\":\"#E5ECF6\",\"gridcolor\":\"white\",\"gridwidth\":2,\"linecolor\":\"white\",\"showbackground\":true,\"ticks\":\"\",\"zerolinecolor\":\"white\"}},\"shapedefaults\":{\"line\":{\"color\":\"#2a3f5f\"}},\"ternary\":{\"aaxis\":{\"gridcolor\":\"white\",\"linecolor\":\"white\",\"ticks\":\"\"},\"baxis\":{\"gridcolor\":\"white\",\"linecolor\":\"white\",\"ticks\":\"\"},\"bgcolor\":\"#E5ECF6\",\"caxis\":{\"gridcolor\":\"white\",\"linecolor\":\"white\",\"ticks\":\"\"}},\"title\":{\"x\":0.05},\"xaxis\":{\"automargin\":true,\"gridcolor\":\"white\",\"linecolor\":\"white\",\"ticks\":\"\",\"title\":{\"standoff\":15},\"zerolinecolor\":\"white\",\"zerolinewidth\":2},\"yaxis\":{\"automargin\":true,\"gridcolor\":\"white\",\"linecolor\":\"white\",\"ticks\":\"\",\"title\":{\"standoff\":15},\"zerolinecolor\":\"white\",\"zerolinewidth\":2}}},\"xaxis\":{\"anchor\":\"y\",\"domain\":[0.0,1.0],\"title\":{\"text\":\"Sex\"}},\"yaxis\":{\"anchor\":\"x\",\"domain\":[0.0,1.0],\"title\":{\"text\":\"count\"}},\"legend\":{\"title\":{\"text\":\"HeartDisease\"},\"tracegroupgap\":0},\"title\":{\"text\":\" Histograma entre HeartDisease vs Sex\"},\"barmode\":\"relative\"},                        {\"responsive\": true}                    ).then(function(){\n",
              "                            \n",
              "var gd = document.getElementById('39d189c9-4873-4b8e-9b7f-bfaf72371a37');\n",
              "var x = new MutationObserver(function (mutations, observer) {{\n",
              "        var display = window.getComputedStyle(gd).display;\n",
              "        if (!display || display === 'none') {{\n",
              "            console.log([gd, 'removed!']);\n",
              "            Plotly.purge(gd);\n",
              "            observer.disconnect();\n",
              "        }}\n",
              "}});\n",
              "\n",
              "// Listen for the removal of the full notebook cells\n",
              "var notebookContainer = gd.closest('#notebook-container');\n",
              "if (notebookContainer) {{\n",
              "    x.observe(notebookContainer, {childList: true});\n",
              "}}\n",
              "\n",
              "// Listen for the clearing of the current output cell\n",
              "var outputEl = gd.closest('.output');\n",
              "if (outputEl) {{\n",
              "    x.observe(outputEl, {childList: true});\n",
              "}}\n",
              "\n",
              "                        })                };                            </script>        </div>\n",
              "</body>\n",
              "</html>"
            ]
          },
          "metadata": {}
        },
        {
          "name": "stdout",
          "output_type": "stream",
          "text": [
            "Presione A, si desea datos estadísticos de la data\n",
            "Presione B, si desea visualizar un gráfico de dispersión de datos\n",
            "Presione C, si desea visualizar un histograma\n",
            "Presione D, si no desea visualizar ningún gráfico o análisis estadístico\n",
            "Que opcion elige:D\n"
          ]
        }
      ]
    },
    {
      "cell_type": "code",
      "execution_count": null,
      "metadata": {
        "id": "f-XGIRggXOYx"
      },
      "outputs": [],
      "source": [
        "import numpy as np\n",
        "import pandas as pd\n",
        "from sklearn.neighbors import KNeighborsClassifier as KNc\n",
        "from sklearn.model_selection import train_test_split as tts\n",
        "from sklearn.metrics import recall_score, precision_score, confusion_matrix\n",
        "df_Heartdis=pd.read_csv('https://raw.githubusercontent.com/Fernando2505/TRABAJO_2_PYTHON_INTERMEDIO/main/heart.csv')\n",
        "#df_Heartdis.head()"
      ]
    },
    {
      "cell_type": "code",
      "source": [
        "from sklearn.preprocessing import LabelEncoder\n",
        "\"\"\"\n",
        "Primero realizaremos un procesamiento de datos\n",
        "Realizaremos un LabelEncoder a las variables Sex, ExerciseAngina, ChestPainType, RestingECG y ST_Slope\n",
        "ya que son variables categóricas.\n",
        "\"\"\"\n",
        "Xlabel1=np.array(df_Heartdis['Sex'])\n",
        "Xlabel2=np.array(df_Heartdis['ExerciseAngina'])\n",
        "Xlabel3=np.array(df_Heartdis['ChestPainType'])\n",
        "Xlabel4=np.array(df_Heartdis['RestingECG'])\n",
        "Xlabel5=np.array(df_Heartdis['ST_Slope'])\n",
        "Encoder=LabelEncoder()\n",
        "Encoder.fit(Xlabel1)\n",
        "Xlabel1=Encoder.fit_transform(Xlabel1)\n",
        "Encoder.fit(Xlabel2)\n",
        "Xlabel2=Encoder.fit_transform(Xlabel2)\n",
        "Encoder.fit(Xlabel3)\n",
        "Xlabel3=Encoder.fit_transform(Xlabel3)\n",
        "Encoder.fit(Xlabel4)\n",
        "Xlabel4=Encoder.fit_transform(Xlabel4)\n",
        "Encoder.fit(Xlabel5)\n",
        "Xlabel5=Encoder.fit_transform(Xlabel5)"
      ],
      "metadata": {
        "id": "3hhh9TlWYvnU"
      },
      "execution_count": null,
      "outputs": []
    },
    {
      "cell_type": "code",
      "source": [
        "\"\"\"\n",
        "Separamos el Target de los Features\n",
        "\"\"\"\n",
        "y=np.array(df_Heartdis['HeartDisease'])\n",
        "y=np.reshape(y,(len(y),1))\n",
        "#print(np.shape(y))\n"
      ],
      "metadata": {
        "id": "M2IjhG_DkZSz"
      },
      "execution_count": null,
      "outputs": []
    },
    {
      "cell_type": "code",
      "source": [
        "\"\"\"\n",
        "Vamos a aplicar escalamiento de datos a las variables Age, RestingBP, Cholesterol, MaxHR,Oldpeak, FastingBS*\n",
        "como la variable FastingBS* son 0 y 1 no va a cambiar los valores con el escalamiento.\n",
        "\"\"\"\n",
        "from sklearn.preprocessing import MinMaxScaler\n",
        "Scaler=MinMaxScaler()\n",
        "Xdf0=df_Heartdis.drop(columns=['Sex','ChestPainType','RestingECG','ExerciseAngina','ST_Slope','HeartDisease'])\n",
        "X0=np.array(Xdf0)\n",
        "Xe=Scaler.fit_transform(X0)\n",
        "#print(np.shape(Xe))\n"
      ],
      "metadata": {
        "id": "dfQVFqbsUW16"
      },
      "execution_count": null,
      "outputs": []
    },
    {
      "cell_type": "code",
      "source": [
        "\"\"\"\n",
        "Formamos la Matriz X de Features\n",
        "\"\"\"\n",
        "Xdf=pd.DataFrame(Xe)\n",
        "Xdf['Sex']=Xlabel1\n",
        "Xdf['ExerciseAngina']=Xlabel2\n",
        "Xdf['ChestPainType']=Xlabel3\n",
        "Xdf['RestingECG']=Xlabel4\n",
        "Xdf['ST_Slope']=Xlabel5\n",
        "#print(np.shape(Xdf))\n",
        "X=np.array(Xdf)\n",
        "#print(np.shape(X))\n",
        "#display(Xdf)"
      ],
      "metadata": {
        "id": "lpKz2-ROljv5"
      },
      "execution_count": null,
      "outputs": []
    },
    {
      "cell_type": "markdown",
      "source": [
        "**`Modelo KNN para clasificación sin PCA`**"
      ],
      "metadata": {
        "id": "TNVty2g3vjJW"
      }
    },
    {
      "cell_type": "code",
      "source": [
        "from pandas.core.common import random_state\n",
        "X1train,X1test,ytrain,ytest=tts(X,y,test_size=0.2,random_state=42)\n",
        "ModeloKNNc=KNc(n_neighbors=7)\n",
        "ModeloKNNc.fit(X1train,ytrain)\n",
        "ypredtrain=ModeloKNNc.predict(X1train)\n",
        "ypredtest=ModeloKNNc.predict(X1test)\n",
        "Scorefit=ModeloKNNc.score(X1train,ytrain)\n",
        "recallfit=recall_score(ytrain,ypredtrain)\n",
        "precisionfit=precision_score(ytrain,ypredtrain)\n",
        "Scoreval=ModeloKNNc.score(X1test,ytest)\n",
        "recallval=recall_score(ytest,ypredtest)\n",
        "precisionval=precision_score(ytest,ypredtest)\n",
        "print(\"El score en entrenamiento es: \",Scorefit)\n",
        "print(\"El recall en entrenamiento es: \",recallfit)\n",
        "print(\"El precision en entrenamiento es: \",precisionfit)\n",
        "print('#'*100)\n",
        "print(\"El score en validación es: \",Scoreval)\n",
        "print(\"El recall en validación es: \",recallval)\n",
        "print(\"El precision en validación es: \",precisionval)"
      ],
      "metadata": {
        "colab": {
          "base_uri": "https://localhost:8080/"
        },
        "id": "DJoVj_GbtWLw",
        "outputId": "b4602814-0644-4209-ecb4-dc664b0a55e3"
      },
      "execution_count": null,
      "outputs": [
        {
          "output_type": "stream",
          "name": "stdout",
          "text": [
            "El score en entrenamiento es:  0.885558583106267\n",
            "El recall en entrenamiento es:  0.9334975369458128\n",
            "El precision en entrenamiento es:  0.8692660550458715\n",
            "####################################################################################################\n",
            "El score en validación es:  0.8478260869565217\n",
            "El recall en validación es:  0.9019607843137255\n",
            "El precision en validación es:  0.8363636363636363\n"
          ]
        },
        {
          "output_type": "stream",
          "name": "stderr",
          "text": [
            "/usr/local/lib/python3.7/dist-packages/sklearn/neighbors/_classification.py:198: DataConversionWarning: A column-vector y was passed when a 1d array was expected. Please change the shape of y to (n_samples,), for example using ravel().\n",
            "  return self._fit(X, y)\n"
          ]
        }
      ]
    },
    {
      "cell_type": "markdown",
      "source": [
        "**Predicción del Modelo KNN sin PCA**"
      ],
      "metadata": {
        "id": "WMThAZDtYXTY"
      }
    },
    {
      "cell_type": "code",
      "source": [
        "from sklearn.preprocessing import MinMaxScaler\n",
        "Features1=[]\n",
        "edad=int(input('Ingrese la edad(en años)= '))\n",
        "Features1.append(edad)\n",
        "RestingBP=int(input('Ingrese la presión arterial en reposo(mm Hg)= '))\n",
        "Features1.append(RestingBP)\n",
        "Cholesterol=int(input('Ingrese el valor del colesterol (mm/dl)= '))\n",
        "Features1.append(Cholesterol)\n",
        "FastingBS=int(input('Si Glucemia en ayunas es mayor a 120mg/dL marcar 1, en el resto de casos marcar 0= '))\n",
        "Features1.append(FastingBS)\n",
        "MaxHR=int(input('Ingrese la frecuencia cardiaca máxima alcanzada(Valores entre 60-202)= '))\n",
        "Features1.append(MaxHR)\n",
        "Oldpeak=round(float(input('Ingrese el valor numérico que mide la depresión= ')),1)\n",
        "Features1.append(Oldpeak)\n",
        "#print(Features1)\n",
        "ArrayFeatures1=np.array(Features1)\n",
        "ArrayFeatures1=np.reshape(ArrayFeatures1,(1,len(ArrayFeatures1)))\n",
        "#print(np.shape(ArrayFeatures1))\n",
        "Scaler = MinMaxScaler()\n",
        "Scaler.fit(X0)\n",
        "Array_Feature1S=Scaler.transform(ArrayFeatures1)\n",
        "Features2=[]\n",
        "Sex=int(input('Ingrese el sexo del paciente (Masculino=\"1\" y Femenino=\"0\")= '))\n",
        "Features2.append(Sex)\n",
        "ExerciseAngina=int(input('¿Presenta Angina inducida por el ejercicio? Si la respuesta es afirmativa marcar \"1\", caso contrario \"0\"= '))\n",
        "Features2.append(ExerciseAngina)\n",
        "ChestPainType=int(input('¿Qué tipo de dolor en el pecho presenta? Si es asintomático marcar \"0\", si presenta angina atípica marcar \"1\", si presenta dolor no anginoso marcar \"2\" y si presenta angina típica marcar \"3\"= '))\n",
        "Features2.append(ChestPainType)\n",
        "RestingECG=int(input('¿Cuál es el resultado del electrocardiograma en reposo? Si es probable o definitiva hipertrofia en el ventrículo izquierdo marcar \"0\", si es Normal marcar \"1\" y si presenta anomalías en la onda ST marcar \"2\"= '))\n",
        "Features2.append(RestingECG)\n",
        "ST_Slope=int(input('¿Cómo es la pendiente en el segmento ST del pico? Si la pendiente es negativa marcar \"0\", si no hay pendiente marcar \"1\" y si tiene pendiente positiva marcar \"2\"= '))\n",
        "Features2.append(ST_Slope)\n",
        "#print(Features2)\n",
        "ArrayFeatures2=np.array(Features2)\n",
        "ArrayFeatures2=np.reshape(ArrayFeatures2,(1,len(ArrayFeatures2)))\n",
        "#print(np.shape(ArrayFeatures2))\n",
        "ArrayFeaturesKNNc=np.c_[Array_Feature1S,ArrayFeatures2]\n",
        "#print(ArrayFeaturesKNNc)\n",
        "respuesta = ModeloKNNc.predict(ArrayFeaturesKNNc)\n",
        "if respuesta == 0:\n",
        "   print(\"El paciente no presenta enfermedad cardiaca\")\n",
        "else:\n",
        "   print(\"El paciente presenta enfermedad cardiaca\")\n"
      ],
      "metadata": {
        "colab": {
          "base_uri": "https://localhost:8080/"
        },
        "id": "cu5V2hdd1p3x",
        "outputId": "0711e5b1-13fe-487c-b38f-1c82ccb70e71"
      },
      "execution_count": null,
      "outputs": [
        {
          "output_type": "stream",
          "name": "stdout",
          "text": [
            "Ingrese la edad(en años)= 45\n",
            "Ingrese la presión arterial en reposo(mm Hg)= 112\n",
            "Ingrese el valor del colesterol (mm/dl)= 264\n",
            "Si Glucemia en ayunas es mayor a 120mg/dL marcar 1, en el resto de casos marcar 0= 1\n",
            "Ingrese la frecuencia cardiaca máxima alcanzada(Valores entre 60-202)= 170\n",
            "Ingrese el valor numérico que mide la depresión= -1.2\n",
            "Ingrese el sexo del paciente (Masculino=\"1\" y Femenino=\"0\")= 1\n",
            "¿Presenta Angina inducida por el ejercicio? Si la respuesta es afirmativa marcar \"1\", caso contrario \"0\"= 1\n",
            "¿Qué tipo de dolor en el pecho presenta? Si es asintomático marcar \"0\", si presenta angina atípica marcar \"1\", si presenta dolor no anginoso marcar \"2\" y si presenta angina típica marcar \"3\"= 3\n",
            "¿Cuál es el resultado del electrocardiograma en reposo? Si es probable o definitiva hipertrofia en el ventrículo izquierdo marcar \"0\", si es Normal marcar \"1\" y si presenta anomalías en la onda ST marcar \"2\"= 2\n",
            "¿Cómo es la pendiente en el segmento ST del pico? Si la pendiente es negativa marcar \"0\", si no hay pendiente marcar \"1\" y si tiene pendiente positiva marcar \"2\"= 1\n",
            "El paciente presenta enfermedad cardiaca\n"
          ]
        }
      ]
    },
    {
      "cell_type": "code",
      "source": [
        ""
      ],
      "metadata": {
        "id": "fgHbq6GcQoVh"
      },
      "execution_count": null,
      "outputs": []
    },
    {
      "cell_type": "markdown",
      "source": [
        "**`Modelo KNN para clasificación con PCA`**"
      ],
      "metadata": {
        "id": "EjXki0Aovx6c"
      }
    },
    {
      "cell_type": "code",
      "source": [
        "from sklearn.decomposition import PCA \n",
        "pca=PCA(n_components=2)\n",
        "pca.fit(X)\n",
        "X1_pca=pca.transform(X)\n",
        "X1train_pca,X1test_pca,ytrain1,ytest1=tts(X1_pca,y,test_size=0.2,random_state=42)\n",
        "ModeloKNNc=KNc(n_neighbors=7)\n",
        "ModeloKNNc.fit(X1train_pca,ytrain)\n",
        "ypredtrain=ModeloKNNc.predict(X1train_pca)\n",
        "ypredtest=ModeloKNNc.predict(X1test_pca)\n",
        "Scorefit=ModeloKNNc.score(X1train_pca,ytrain)\n",
        "recallfit=recall_score(ytrain,ypredtrain)\n",
        "precisionfit=precision_score(ytrain,ypredtrain)\n",
        "Scoreval=ModeloKNNc.score(X1test_pca,ytest)\n",
        "recallval=recall_score(ytest,ypredtest)\n",
        "precisionval=precision_score(ytest,ypredtest)\n",
        "print(\"El score en entrenamiento es: \",Scorefit)\n",
        "print(\"El recall en entrenamiento es: \",recallfit)\n",
        "print(\"El precision en entrenamiento es: \",precisionfit)\n",
        "print('#'*100)\n",
        "print(\"El score en validación es: \",Scoreval)\n",
        "print(\"El recall en validación es: \",recallval)\n",
        "print(\"El precision en validación es: \",precisionval)"
      ],
      "metadata": {
        "colab": {
          "base_uri": "https://localhost:8080/"
        },
        "id": "59MyF6jwv--V",
        "outputId": "29f41f58-3b65-44cb-8c7e-e922dc052991"
      },
      "execution_count": null,
      "outputs": [
        {
          "output_type": "stream",
          "name": "stdout",
          "text": [
            "El score en entrenamiento es:  0.8719346049046321\n",
            "El recall en entrenamiento es:  0.9211822660098522\n",
            "El precision en entrenamiento es:  0.8577981651376146\n",
            "####################################################################################################\n",
            "El score en validación es:  0.8152173913043478\n",
            "El recall en validación es:  0.8725490196078431\n",
            "El precision en validación es:  0.8090909090909091\n"
          ]
        },
        {
          "output_type": "stream",
          "name": "stderr",
          "text": [
            "/usr/local/lib/python3.7/dist-packages/sklearn/neighbors/_classification.py:198: DataConversionWarning: A column-vector y was passed when a 1d array was expected. Please change the shape of y to (n_samples,), for example using ravel().\n",
            "  return self._fit(X, y)\n"
          ]
        }
      ]
    },
    {
      "cell_type": "markdown",
      "source": [
        "**Modelo REGRESION LOGISTICA para clasificación sin PCA**"
      ],
      "metadata": {
        "id": "T9ghO33DbxDE"
      }
    },
    {
      "cell_type": "code",
      "source": [
        "from sklearn.linear_model import LogisticRegression\n",
        "###formamos el modelo\n",
        "Xtrain,Xtest,ytrain,ytest = tts(X,y,test_size = 0.20, random_state = 32)\n",
        "modellogist = LogisticRegression(max_iter=50)\n",
        "modellogist.fit(Xtrain,ytrain)\n",
        "####\n",
        "ypredtest = modellogist.predict(Xtest)\n",
        "ypredtrain = modellogist.predict(Xtrain)\n",
        "### Evaluamos\n",
        "score_totaltrain = modellogist.score(Xtrain,ytrain)\n",
        "recallscoretrain  = recall_score(ytrain,ypredtrain)\n",
        "precisionscoretrain = precision_score(ytrain,ypredtrain)\n",
        "\n",
        "print(\"El score en entrenamiento es\",score_totaltrain)\n",
        "print(\"El recall en entrenamiento es\",recallscoretrain)\n",
        "print(\"La precision en entrenamiento es\",precisionscoretrain)\n",
        "\n",
        "#####################################################################\n",
        "\n",
        "score_totalvalidation = modellogist.score(Xtest,ytest)\n",
        "recallscoreval  = recall_score(ytest,ypredtest)\n",
        "precisionscoreval = precision_score(ytest,ypredtest)\n",
        "\n",
        "print(\"#\"*100)\n",
        "\n",
        "print(\"El score en validación es\",score_totalvalidation)\n",
        "print(\"El recall en validación es\",recallscoreval)\n",
        "print(\"La precision en validación es\",precisionscoreval)"
      ],
      "metadata": {
        "colab": {
          "base_uri": "https://localhost:8080/"
        },
        "id": "F9MxkerRbjbE",
        "outputId": "de07cefe-0a0f-47ab-9299-fc7a214730b6"
      },
      "execution_count": null,
      "outputs": [
        {
          "output_type": "stream",
          "name": "stdout",
          "text": [
            "El score en entrenamiento es 0.8528610354223434\n",
            "El recall en entrenamiento es 0.8679706601466992\n",
            "La precision en entrenamiento es 0.8679706601466992\n",
            "####################################################################################################\n",
            "El score en validación es 0.8478260869565217\n",
            "El recall en validación es 0.8888888888888888\n",
            "La precision en validación es 0.8380952380952381\n"
          ]
        },
        {
          "output_type": "stream",
          "name": "stderr",
          "text": [
            "/usr/local/lib/python3.7/dist-packages/sklearn/utils/validation.py:993: DataConversionWarning: A column-vector y was passed when a 1d array was expected. Please change the shape of y to (n_samples, ), for example using ravel().\n",
            "  y = column_or_1d(y, warn=True)\n"
          ]
        }
      ]
    },
    {
      "cell_type": "markdown",
      "source": [
        "**Predicción del Modelo Logístico para clasificación sin PCA**"
      ],
      "metadata": {
        "id": "4eF0fel6cI-b"
      }
    },
    {
      "cell_type": "code",
      "source": [
        "from sklearn.preprocessing import MinMaxScaler\n",
        "Features1=[]\n",
        "edad=int(input('Ingrese la edad(en años)= '))\n",
        "Features1.append(edad)\n",
        "RestingBP=int(input('Ingrese la presión arterial en reposo(mm Hg)= '))\n",
        "Features1.append(RestingBP)\n",
        "Cholesterol=int(input('Ingrese el valor del colesterol (mm/dl)= '))\n",
        "Features1.append(Cholesterol)\n",
        "FastingBS=int(input('Si Glucemia en ayunas es mayor a 120mg/dL marcar 1, en el resto de casos marcar 0= '))\n",
        "Features1.append(FastingBS)\n",
        "MaxHR=int(input('Ingrese la frecuencia cardiaca máxima alcanzada(Valores entre 60-202)= '))\n",
        "Features1.append(MaxHR)\n",
        "Oldpeak=round(float(input('Ingrese el valor numérico que mide la depresión= ')),1)\n",
        "Features1.append(Oldpeak)\n",
        "#print(Features1)\n",
        "ArrayFeatures1=np.array(Features1)\n",
        "ArrayFeatures1=np.reshape(ArrayFeatures1,(1,len(ArrayFeatures1)))\n",
        "#print(np.shape(ArrayFeatures1))\n",
        "Scaler = MinMaxScaler()\n",
        "Scaler.fit(X0)\n",
        "Array_Feature1S=Scaler.transform(ArrayFeatures1)\n",
        "Features2=[]\n",
        "Sex=int(input('Ingrese el sexo del paciente (Masculino=\"1\" y Femenino=\"0\")= '))\n",
        "Features2.append(Sex)\n",
        "ExerciseAngina=int(input('¿Presenta Angina inducida por el ejercicio? Si la respuesta es afirmativa marcar \"1\", caso contrario \"0\"= '))\n",
        "Features2.append(ExerciseAngina)\n",
        "ChestPainType=int(input('¿Qué tipo de dolor en el pecho presenta? Si es asintomático marcar \"0\", si presenta angina atípica marcar \"1\", si presenta dolor no anginoso marcar \"2\" y si presenta angina típica marcar \"3\"= '))\n",
        "Features2.append(ChestPainType)\n",
        "RestingECG=int(input('¿Cuál es el resultado del electrocardiograma en reposo? Si es probable o definitiva hipertrofia en el ventrículo izquierdo marcar \"0\", si es Normal marcar \"1\" y si presenta anomalías en la onda ST marcar \"2\"= '))\n",
        "Features2.append(RestingECG)\n",
        "ST_Slope=int(input('¿Cómo es la pendiente en el segmento ST del pico? Si la pendiente es negativa marcar \"0\", si no hay pendiente marcar \"1\" y si tiene pendiente positiva marcar \"2\"= '))\n",
        "Features2.append(ST_Slope)\n",
        "#print(Features2)\n",
        "ArrayFeatures2=np.array(Features2)\n",
        "ArrayFeatures2=np.reshape(ArrayFeatures2,(1,len(ArrayFeatures2)))\n",
        "#print(np.shape(ArrayFeatures2))\n",
        "ArrayFeaturesLog=np.c_[Array_Feature1S,ArrayFeatures2]\n",
        "#print(ArrayFeaturesLog)\n",
        "respuesta = modellogist.predict(ArrayFeaturesLog)\n",
        "if respuesta == 0:\n",
        "   print(\"El paciente no presenta enfermedad cardiaca\")\n",
        "else:\n",
        "   print(\"El paciente presenta enfermedad cardiaca\")"
      ],
      "metadata": {
        "colab": {
          "base_uri": "https://localhost:8080/"
        },
        "id": "sX5Mqb0AbjM-",
        "outputId": "962cedb6-bd70-4f35-ced5-84714bcf40b5"
      },
      "execution_count": null,
      "outputs": [
        {
          "output_type": "stream",
          "name": "stdout",
          "text": [
            "Ingrese la edad(en años)= 45\n",
            "Ingrese la presión arterial en reposo(mm Hg)= 112\n",
            "Ingrese el valor del colesterol (mm/dl)= 264\n",
            "Si Glucemia en ayunas es mayor a 120mg/dL marcar 1, en el resto de casos marcar 0= 1\n",
            "Ingrese la frecuencia cardiaca máxima alcanzada(Valores entre 60-202)= 170\n",
            "Ingrese el valor numérico que mide la depresión= -1.2\n",
            "Ingrese el sexo del paciente (Masculino=\"1\" y Femenino=\"0\")= 1\n",
            "¿Presenta Angina inducida por el ejercicio? Si la respuesta es afirmativa marcar \"1\", caso contrario \"0\"= 1\n",
            "¿Qué tipo de dolor en el pecho presenta? Si es asintomático marcar \"0\", si presenta angina atípica marcar \"1\", si presenta dolor no anginoso marcar \"2\" y si presenta angina típica marcar \"3\"= 3\n",
            "¿Cuál es el resultado del electrocardiograma en reposo? Si es probable o definitiva hipertrofia en el ventrículo izquierdo marcar \"0\", si es Normal marcar \"1\" y si presenta anomalías en la onda ST marcar \"2\"= 2\n",
            "¿Cómo es la pendiente en el segmento ST del pico? Si la pendiente es negativa marcar \"0\", si no hay pendiente marcar \"1\" y si tiene pendiente positiva marcar \"2\"= 1\n",
            "El paciente presenta enfermedad cardiaca\n"
          ]
        }
      ]
    },
    {
      "cell_type": "markdown",
      "source": [
        "**Modelo REGRESION LOGISTICA para clasificación con PCA**"
      ],
      "metadata": {
        "id": "wmJnGeIHdnfO"
      }
    },
    {
      "cell_type": "code",
      "source": [
        "from sklearn.decomposition import PCA\n",
        "pca1 = PCA(n_components=2) # Reducción dimensional a 2 dimensiones\n",
        "pca1.fit(X)\n",
        "Xpca = pca1.transform(X)\n",
        "\n",
        "###formamos el modelo\n",
        "Xtrain_pca,Xtest_pca,ytrain_pca,ytest_pca = tts(Xpca,y,test_size = 0.20, random_state = 32)\n",
        "modellogist = LogisticRegression(max_iter=50)\n",
        "modellogist.fit(Xtrain_pca,ytrain_pca)\n",
        "####\n",
        "ypredtest_pca = modellogist.predict(Xtest_pca)\n",
        "ypredtrain_pca = modellogist.predict(Xtrain_pca)\n",
        "### Evaluamos\n",
        "score_totaltrain_pca = modellogist.score(Xtrain_pca,ytrain_pca)\n",
        "recallscoretrain_pca  = recall_score(ytrain_pca,ypredtrain_pca)\n",
        "precisionscoretrain_pca = precision_score(ytrain_pca,ypredtrain_pca)\n",
        "\n",
        "print(\"El score en entrenamiento es\",score_totaltrain_pca)\n",
        "print(\"El recall en entrenamiento es\",recallscoretrain_pca)\n",
        "print(\"La precision en entrenamiento es\",precisionscoretrain_pca)\n",
        "\n",
        "#####################################################################\n",
        "\n",
        "score_totalvalidation_pca = modellogist.score(Xtest_pca,ytest_pca)\n",
        "recallscoreval_pca  = recall_score(ytest_pca,ypredtest_pca)\n",
        "precisionscoreval_pca = precision_score(ytest_pca,ypredtest_pca)\n",
        "\n",
        "print(\"#\"*100)\n",
        "\n",
        "print(\"El score en validación es\",score_totalvalidation_pca)\n",
        "print(\"El recall en validación es\",recallscoreval_pca)\n",
        "print(\"La precision en validación es\",precisionscoreval_pca)"
      ],
      "metadata": {
        "colab": {
          "base_uri": "https://localhost:8080/"
        },
        "id": "_5FsdRZJdaN1",
        "outputId": "90442a17-c0bf-4609-e358-a8ff89f9b628"
      },
      "execution_count": null,
      "outputs": [
        {
          "output_type": "stream",
          "name": "stdout",
          "text": [
            "El score en entrenamiento es 0.8038147138964578\n",
            "El recall en entrenamiento es 0.8141809290953546\n",
            "La precision en entrenamiento es 0.830423940149626\n",
            "####################################################################################################\n",
            "El score en validación es 0.7771739130434783\n",
            "El recall en validación es 0.7878787878787878\n",
            "La precision en validación es 0.7959183673469388\n"
          ]
        },
        {
          "output_type": "stream",
          "name": "stderr",
          "text": [
            "/usr/local/lib/python3.7/dist-packages/sklearn/utils/validation.py:993: DataConversionWarning: A column-vector y was passed when a 1d array was expected. Please change the shape of y to (n_samples, ), for example using ravel().\n",
            "  y = column_or_1d(y, warn=True)\n"
          ]
        }
      ]
    },
    {
      "cell_type": "markdown",
      "source": [
        "**Modelo Random Forest para clasificación sin PCA**"
      ],
      "metadata": {
        "id": "mngI1k-teZ18"
      }
    },
    {
      "cell_type": "code",
      "source": [
        "from sklearn.ensemble import RandomForestClassifier as RFC\n",
        "Xtrain, Xtest, ytrain, ytest = tts(X, y, random_state=42, test_size=0.25)\n",
        "modelo_RFR = RFC(n_estimators = 120, random_state=42)\n",
        "modelo_RFR.fit(Xtrain, ytrain)\n",
        "\n",
        "ypredtest = modelo_RFR.predict(Xtest)\n",
        "ypredtrain = modelo_RFR.predict(Xtrain)\n",
        "### Evaluamos\n",
        "score_totaltrain = modelo_RFR.score(Xtrain,ytrain)\n",
        "recallscoretrain  = recall_score(ytrain,ypredtrain)\n",
        "precisionscoretrain = precision_score(ytrain,ypredtrain)\n",
        "\n",
        "print(\"El score en entrenamiento es\",score_totaltrain)\n",
        "print(\"El recall en entrenamiento es\",recallscoretrain)\n",
        "print(\"La precision en entrenamiento es\",precisionscoretrain)\n",
        "\n",
        "#####################################################################\n",
        "\n",
        "score_totalvalidation = modelo_RFR.score(Xtest,ytest)\n",
        "recallscoreval  = recall_score(ytest,ypredtest)\n",
        "precisionscoreval = precision_score(ytest,ypredtest)\n",
        "\n",
        "print(\"#\"*100)\n",
        "\n",
        "print(\"El score en validación es\",score_totalvalidation)\n",
        "print(\"El recall en validación es\",recallscoreval)\n",
        "print(\"La precision en validación es\",precisionscoreval)"
      ],
      "metadata": {
        "colab": {
          "base_uri": "https://localhost:8080/"
        },
        "id": "6kFAE-gmeb3t",
        "outputId": "839c1486-9e7a-4fca-decf-ab188669b565"
      },
      "execution_count": null,
      "outputs": [
        {
          "output_type": "stream",
          "name": "stderr",
          "text": [
            "/usr/local/lib/python3.7/dist-packages/ipykernel_launcher.py:4: DataConversionWarning: A column-vector y was passed when a 1d array was expected. Please change the shape of y to (n_samples,), for example using ravel().\n",
            "  after removing the cwd from sys.path.\n"
          ]
        },
        {
          "output_type": "stream",
          "name": "stdout",
          "text": [
            "El score en entrenamiento es 1.0\n",
            "El recall en entrenamiento es 1.0\n",
            "La precision en entrenamiento es 1.0\n",
            "####################################################################################################\n",
            "El score en validación es 0.8695652173913043\n",
            "El recall en validación es 0.896\n",
            "La precision en validación es 0.8682170542635659\n"
          ]
        }
      ]
    },
    {
      "cell_type": "markdown",
      "source": [
        "**Predicción del Modelo Random Forest para clasificación sin PCA**"
      ],
      "metadata": {
        "id": "YXofigQLeudr"
      }
    },
    {
      "cell_type": "code",
      "source": [
        "from sklearn.preprocessing import MinMaxScaler\n",
        "Features1=[]\n",
        "edad=int(input('Ingrese la edad(en años)= '))\n",
        "Features1.append(edad)\n",
        "RestingBP=int(input('Ingrese la presión arterial en reposo(mm Hg)= '))\n",
        "Features1.append(RestingBP)\n",
        "Cholesterol=int(input('Ingrese el valor del colesterol (mm/dl)= '))\n",
        "Features1.append(Cholesterol)\n",
        "FastingBS=int(input('Si Glucemia en ayunas es mayor a 120mg/dL marcar 1, en el resto de casos marcar 0= '))\n",
        "Features1.append(FastingBS)\n",
        "MaxHR=int(input('Ingrese la frecuencia cardiaca máxima alcanzada(Valores entre 60-202)= '))\n",
        "Features1.append(MaxHR)\n",
        "Oldpeak=round(float(input('Ingrese el valor numérico que mide la depresión= ')),1)\n",
        "Features1.append(Oldpeak)\n",
        "#print(Features1)\n",
        "ArrayFeatures1=np.array(Features1)\n",
        "ArrayFeatures1=np.reshape(ArrayFeatures1,(1,len(ArrayFeatures1)))\n",
        "#print(np.shape(ArrayFeatures1))\n",
        "Scaler = MinMaxScaler()\n",
        "Scaler.fit(X0)\n",
        "Array_Feature1S=Scaler.transform(ArrayFeatures1)\n",
        "Features2=[]\n",
        "Sex=int(input('Ingrese el sexo del paciente (Masculino=\"1\" y Femenino=\"0\")= '))\n",
        "Features2.append(Sex)\n",
        "ExerciseAngina=int(input('¿Presenta Angina inducida por el ejercicio? Si la respuesta es afirmativa marcar \"1\", caso contrario \"0\"= '))\n",
        "Features2.append(ExerciseAngina)\n",
        "ChestPainType=int(input('¿Qué tipo de dolor en el pecho presenta? Si es asintomático marcar \"0\", si presenta angina atípica marcar \"1\", si presenta dolor no anginoso marcar \"2\" y si presenta angina típica marcar \"3\"= '))\n",
        "Features2.append(ChestPainType)\n",
        "RestingECG=int(input('¿Cuál es el resultado del electrocardiograma en reposo? Si es probable o definitiva hipertrofia en el ventrículo izquierdo marcar \"0\", si es Normal marcar \"1\" y si presenta anomalías en la onda ST marcar \"2\"= '))\n",
        "Features2.append(RestingECG)\n",
        "ST_Slope=int(input('¿Cómo es la pendiente en el segmento ST del pico? Si la pendiente es negativa marcar \"0\", si no hay pendiente marcar \"1\" y si tiene pendiente positiva marcar \"2\"= '))\n",
        "Features2.append(ST_Slope)\n",
        "#print(Features2)\n",
        "ArrayFeatures2=np.array(Features2)\n",
        "ArrayFeatures2=np.reshape(ArrayFeatures2,(1,len(ArrayFeatures2)))\n",
        "#print(np.shape(ArrayFeatures2))\n",
        "ArrayFeaturesRF=np.c_[Array_Feature1S,ArrayFeatures2]\n",
        "#print(ArrayFeaturesRF)\n",
        "respuesta = modelo_RFR.predict(ArrayFeaturesRF)\n",
        "if respuesta == 0:\n",
        "   print(\"El paciente no presenta enfermedad cardiaca\")\n",
        "else:\n",
        "   print(\"El paciente presenta enfermedad cardiaca\")"
      ],
      "metadata": {
        "colab": {
          "base_uri": "https://localhost:8080/"
        },
        "id": "V7jp-F2Nez3E",
        "outputId": "14446414-3722-411e-889c-021ed0fd6ac0"
      },
      "execution_count": null,
      "outputs": [
        {
          "output_type": "stream",
          "name": "stdout",
          "text": [
            "Ingrese la edad(en años)= 45\n",
            "Ingrese la presión arterial en reposo(mm Hg)= 112\n",
            "Ingrese el valor del colesterol (mm/dl)= 264\n",
            "Si Glucemia en ayunas es mayor a 120mg/dL marcar 1, en el resto de casos marcar 0= 1\n",
            "Ingrese la frecuencia cardiaca máxima alcanzada(Valores entre 60-202)= 170\n",
            "Ingrese el valor numérico que mide la depresión= -1.2\n",
            "Ingrese el sexo del paciente (Masculino=\"1\" y Femenino=\"0\")= 1\n",
            "¿Presenta Angina inducida por el ejercicio? Si la respuesta es afirmativa marcar \"1\", caso contrario \"0\"= 1\n",
            "¿Qué tipo de dolor en el pecho presenta? Si es asintomático marcar \"0\", si presenta angina atípica marcar \"1\", si presenta dolor no anginoso marcar \"2\" y si presenta angina típica marcar \"3\"= 3\n",
            "¿Cuál es el resultado del electrocardiograma en reposo? Si es probable o definitiva hipertrofia en el ventrículo izquierdo marcar \"0\", si es Normal marcar \"1\" y si presenta anomalías en la onda ST marcar \"2\"= 2\n",
            "¿Cómo es la pendiente en el segmento ST del pico? Si la pendiente es negativa marcar \"0\", si no hay pendiente marcar \"1\" y si tiene pendiente positiva marcar \"2\"= 1\n",
            "El paciente presenta enfermedad cardiaca\n"
          ]
        }
      ]
    },
    {
      "cell_type": "markdown",
      "source": [
        "**Modelo Random Forest para clasificación con PCA**"
      ],
      "metadata": {
        "id": "HClUT_lifbw9"
      }
    },
    {
      "cell_type": "code",
      "source": [
        "from sklearn.decomposition import PCA\n",
        "pca1 = PCA(n_components=2) # Reducción dimensional a 2 dimensiones\n",
        "pca1.fit(X)\n",
        "Xpca = pca1.transform(X)\n",
        "\n",
        "Xtrain_pca, Xtest_pca, ytrain_pca, ytest_pca = tts(Xpca, y, random_state=42, test_size=0.25)\n",
        "modelo_RFR_pca = RFC(n_estimators = 120, random_state=42)\n",
        "modelo_RFR_pca.fit(Xtrain_pca, ytrain_pca)\n",
        "\n",
        "ypredtest_pca = modelo_RFR_pca.predict(Xtest_pca)\n",
        "ypredtrain_pca = modelo_RFR_pca.predict(Xtrain_pca)\n",
        "### Evaluamos\n",
        "score_totaltrain_pca = modelo_RFR_pca.score(Xtrain_pca,ytrain_pca)\n",
        "recallscoretrain_pca  = recall_score(ytrain_pca,ypredtrain_pca)\n",
        "precisionscoretrain_pca = precision_score(ytrain_pca,ypredtrain_pca)\n",
        "\n",
        "print(\"El score en entrenamiento es\",score_totaltrain_pca)\n",
        "print(\"El recall en entrenamiento es\",recallscoretrain_pca)\n",
        "print(\"La precision en entrenamiento es\",precisionscoretrain_pca)\n",
        "\n",
        "#####################################################################\n",
        "\n",
        "score_totalvalidation_pca = modelo_RFR_pca.score(Xtest_pca,ytest_pca)\n",
        "recallscoreval_pca  = recall_score(ytest_pca,ypredtest_pca)\n",
        "precisionscoreval_pca = precision_score(ytest_pca,ypredtest_pca)\n",
        "\n",
        "print(\"#\"*100)\n",
        "\n",
        "print(\"El score en validación es\",score_totalvalidation_pca)\n",
        "print(\"El recall en validación es\",recallscoreval_pca)\n",
        "print(\"La precision en validación es\",precisionscoreval_pca)"
      ],
      "metadata": {
        "colab": {
          "base_uri": "https://localhost:8080/"
        },
        "id": "f5BXnRaWfhRe",
        "outputId": "d8515a76-cb55-43e8-b334-178562005568"
      },
      "execution_count": null,
      "outputs": [
        {
          "output_type": "stream",
          "name": "stderr",
          "text": [
            "/usr/local/lib/python3.7/dist-packages/ipykernel_launcher.py:8: DataConversionWarning: A column-vector y was passed when a 1d array was expected. Please change the shape of y to (n_samples,), for example using ravel().\n",
            "  \n"
          ]
        },
        {
          "output_type": "stream",
          "name": "stdout",
          "text": [
            "El score en entrenamiento es 1.0\n",
            "El recall en entrenamiento es 1.0\n",
            "La precision en entrenamiento es 1.0\n",
            "####################################################################################################\n",
            "El score en validación es 0.8347826086956521\n",
            "El recall en validación es 0.848\n",
            "La precision en validación es 0.848\n"
          ]
        }
      ]
    },
    {
      "cell_type": "markdown",
      "source": [
        "**Modelo SVC sin PCA**"
      ],
      "metadata": {
        "id": "xByyIDVzkvWz"
      }
    },
    {
      "cell_type": "code",
      "source": [
        "from sklearn.svm import SVC\n",
        "X_train,X_test,y_train,y_test = tts(X, y,shuffle=True)\n",
        "SVC_Heart = SVC(gamma='scale')\n",
        "SVC_Heart.fit(X_train,y_train)\n",
        "\n",
        "ypredtest = SVC_Heart.predict(X_test)\n",
        "ypredtrain = SVC_Heart.predict(X_train)\n",
        "### Evaluamos\n",
        "score_totaltrain = SVC_Heart.score(X_train,y_train)\n",
        "recallscoretrain  = recall_score(y_train,ypredtrain)\n",
        "precisionscoretrain = precision_score(y_train,ypredtrain)\n",
        "\n",
        "print(\"El score en entrenamiento es\",score_totaltrain)\n",
        "print(\"El recall en entrenamiento es\",recallscoretrain)\n",
        "print(\"La precision en entrenamiento es\",precisionscoretrain)\n",
        "\n",
        "#####################################################################\n",
        "\n",
        "score_totalvalidation = SVC_Heart.score(X_test,y_test)\n",
        "recallscoreval  = recall_score(y_test,ypredtest)\n",
        "precisionscoreval = precision_score(y_test,ypredtest)\n",
        "\n",
        "print(\"#\"*100)\n",
        "\n",
        "print(\"El score en validación es\",score_totalvalidation)\n",
        "print(\"El recall en validación es\",recallscoreval)\n",
        "print(\"La precision en validación es\",precisionscoreval)"
      ],
      "metadata": {
        "id": "t8vFGvtbk2-a",
        "colab": {
          "base_uri": "https://localhost:8080/"
        },
        "outputId": "4f7b8a6c-44d7-423d-ef7f-5e7fe4b641b3"
      },
      "execution_count": null,
      "outputs": [
        {
          "output_type": "stream",
          "name": "stdout",
          "text": [
            "El score en entrenamiento es 0.8837209302325582\n",
            "El recall en entrenamiento es 0.9071618037135278\n",
            "La precision en entrenamiento es 0.8837209302325582\n",
            "####################################################################################################\n",
            "El score en validación es 0.7956521739130434\n",
            "El recall en validación es 0.7938931297709924\n",
            "La precision en validación es 0.8387096774193549\n"
          ]
        },
        {
          "output_type": "stream",
          "name": "stderr",
          "text": [
            "/usr/local/lib/python3.7/dist-packages/sklearn/utils/validation.py:993: DataConversionWarning: A column-vector y was passed when a 1d array was expected. Please change the shape of y to (n_samples, ), for example using ravel().\n",
            "  y = column_or_1d(y, warn=True)\n"
          ]
        }
      ]
    },
    {
      "cell_type": "markdown",
      "source": [
        "**Predicción del Modelo SVC para clasificación sin PCA**"
      ],
      "metadata": {
        "id": "nJaE89TalRex"
      }
    },
    {
      "cell_type": "code",
      "source": [
        "from sklearn.preprocessing import MinMaxScaler\n",
        "Features1=[]\n",
        "edad=int(input('Ingrese la edad(en años)= '))\n",
        "Features1.append(edad)\n",
        "RestingBP=int(input('Ingrese la presión arterial en reposo(mm Hg)= '))\n",
        "Features1.append(RestingBP)\n",
        "Cholesterol=int(input('Ingrese el valor del colesterol (mm/dl)= '))\n",
        "Features1.append(Cholesterol)\n",
        "FastingBS=int(input('Si Glucemia en ayunas es mayor a 120mg/dL marcar 1, en el resto de casos marcar 0= '))\n",
        "Features1.append(FastingBS)\n",
        "MaxHR=int(input('Ingrese la frecuencia cardiaca máxima alcanzada(Valores entre 60-202)= '))\n",
        "Features1.append(MaxHR)\n",
        "Oldpeak=round(float(input('Ingrese el valor numérico que mide la depresión= ')),1)\n",
        "Features1.append(Oldpeak)\n",
        "#print(Features1)\n",
        "ArrayFeatures1=np.array(Features1)\n",
        "ArrayFeatures1=np.reshape(ArrayFeatures1,(1,len(ArrayFeatures1)))\n",
        "#print(np.shape(ArrayFeatures1))\n",
        "Scaler = MinMaxScaler()\n",
        "Scaler.fit(X0)\n",
        "Array_Feature1S=Scaler.transform(ArrayFeatures1)\n",
        "Features2=[]\n",
        "Sex=int(input('Ingrese el sexo del paciente (Masculino=\"1\" y Femenino=\"0\")= '))\n",
        "Features2.append(Sex)\n",
        "ExerciseAngina=int(input('¿Presenta Angina inducida por el ejercicio? Si la respuesta es afirmativa marcar \"1\", caso contrario \"0\"= '))\n",
        "Features2.append(ExerciseAngina)\n",
        "ChestPainType=int(input('¿Qué tipo de dolor en el pecho presenta? Si es asintomático marcar \"0\", si presenta angina atípica marcar \"1\", si presenta dolor no anginoso marcar \"2\" y si presenta angina típica marcar \"3\"= '))\n",
        "Features2.append(ChestPainType)\n",
        "RestingECG=int(input('¿Cuál es el resultado del electrocardiograma en reposo? Si es probable o definitiva hipertrofia en el ventrículo izquierdo marcar \"0\", si es Normal marcar \"1\" y si presenta anomalías en la onda ST marcar \"2\"= '))\n",
        "Features2.append(RestingECG)\n",
        "ST_Slope=int(input('¿Cómo es la pendiente en el segmento ST del pico? Si la pendiente es negativa marcar \"0\", si no hay pendiente marcar \"1\" y si tiene pendiente positiva marcar \"2\"= '))\n",
        "Features2.append(ST_Slope)\n",
        "#print(Features2)\n",
        "ArrayFeatures2=np.array(Features2)\n",
        "ArrayFeatures2=np.reshape(ArrayFeatures2,(1,len(ArrayFeatures2)))\n",
        "#print(np.shape(ArrayFeatures2))\n",
        "ArrayFeaturesSVC=np.c_[Array_Feature1S,ArrayFeatures2]\n",
        "#print(ArrayFeaturesSVC)\n",
        "respuesta = SVC_Heart.predict(ArrayFeaturesSVC)\n",
        "if respuesta == 0:\n",
        "   print(\"El paciente no presenta enfermedad cardiaca\")\n",
        "else:\n",
        "   print(\"El paciente presenta enfermedad cardiaca\")"
      ],
      "metadata": {
        "colab": {
          "base_uri": "https://localhost:8080/"
        },
        "id": "R-_9WsF9lXAP",
        "outputId": "08d31069-b8a9-46dd-dfa4-3c54baa5c375"
      },
      "execution_count": null,
      "outputs": [
        {
          "output_type": "stream",
          "name": "stdout",
          "text": [
            "Ingrese la edad(en años)= 45\n",
            "Ingrese la presión arterial en reposo(mm Hg)= 112\n",
            "Ingrese el valor del colesterol (mm/dl)= 264\n",
            "Si Glucemia en ayunas es mayor a 120mg/dL marcar 1, en el resto de casos marcar 0= 1\n",
            "Ingrese la frecuencia cardiaca máxima alcanzada(Valores entre 60-202)= 170\n",
            "Ingrese el valor numérico que mide la depresión= -1.2\n",
            "Ingrese el sexo del paciente (Masculino=\"1\" y Femenino=\"0\")= 1\n",
            "¿Presenta Angina inducida por el ejercicio? Si la respuesta es afirmativa marcar \"1\", caso contrario \"0\"= 1\n",
            "¿Qué tipo de dolor en el pecho presenta? Si es asintomático marcar \"0\", si presenta angina atípica marcar \"1\", si presenta dolor no anginoso marcar \"2\" y si presenta angina típica marcar \"3\"= 3\n",
            "¿Cuál es el resultado del electrocardiograma en reposo? Si es probable o definitiva hipertrofia en el ventrículo izquierdo marcar \"0\", si es Normal marcar \"1\" y si presenta anomalías en la onda ST marcar \"2\"= 2\n",
            "¿Cómo es la pendiente en el segmento ST del pico? Si la pendiente es negativa marcar \"0\", si no hay pendiente marcar \"1\" y si tiene pendiente positiva marcar \"2\"= 1\n",
            "El paciente presenta enfermedad cardiaca\n"
          ]
        }
      ]
    },
    {
      "cell_type": "markdown",
      "source": [
        "**Modelo SVC con PCA**"
      ],
      "metadata": {
        "id": "0nsIUi3sl4tx"
      }
    },
    {
      "cell_type": "code",
      "source": [
        "from sklearn.decomposition import PCA\n",
        "pca1 = PCA(n_components=2) \n",
        "pca1.fit(X)\n",
        "Xpca_SVC = pca1.transform(X)\n",
        "\n",
        "X_train_SVC,X_test_SVC,y_train_SVC,y_test_SVC = tts(Xpca_SVC, y,shuffle=True)\n",
        "SVC_Heart = SVC(gamma='scale')\n",
        "SVC_Heart.fit(X_train_SVC,y_train_SVC)\n",
        "\n",
        "ypredtest_SVC = SVC_Heart.predict(X_test_SVC)\n",
        "ypredtrain_SVC = SVC_Heart.predict(X_train_SVC)\n",
        "### Evaluamos\n",
        "score_totaltrain_SVC = SVC_Heart.score(X_train_SVC,y_train_SVC)\n",
        "recallscoretrain_SVC  = recall_score(y_train_SVC,ypredtrain_SVC)\n",
        "precisionscoretrain_SVC = precision_score(y_train_SVC,ypredtrain_SVC)\n",
        "\n",
        "print(\"El score en entrenamiento es\",score_totaltrain_SVC)\n",
        "print(\"El recall en entrenamiento es\",recallscoretrain_SVC)\n",
        "print(\"La precision en entrenamiento es\",precisionscoretrain_SVC)\n",
        "\n",
        "#####################################################################\n",
        "\n",
        "score_totalvalidation_SVC = SVC_Heart.score(X_test_SVC,y_test_SVC)\n",
        "recallscoreval_SVC  = recall_score(y_test_SVC,ypredtest_SVC)\n",
        "precisionscoreval_SVC = precision_score(y_test_SVC,ypredtest_SVC)\n",
        "\n",
        "print(\"#\"*100)\n",
        "\n",
        "print(\"El score en validación es\",score_totalvalidation_SVC)\n",
        "print(\"El recall en validación es\",recallscoreval_SVC)\n",
        "print(\"La precision en validación es\",precisionscoreval_SVC)"
      ],
      "metadata": {
        "colab": {
          "base_uri": "https://localhost:8080/"
        },
        "id": "CKDLBQtVmnWQ",
        "outputId": "51f2c900-e63a-4790-bac6-08213e7ce1e3"
      },
      "execution_count": null,
      "outputs": [
        {
          "output_type": "stream",
          "name": "stdout",
          "text": [
            "El score en entrenamiento es 0.8037790697674418\n",
            "El recall en entrenamiento es 0.8793969849246231\n",
            "La precision en entrenamiento es 0.8009153318077803\n",
            "####################################################################################################\n",
            "El score en validación es 0.8\n",
            "El recall en validación es 0.8545454545454545\n",
            "La precision en validación es 0.7580645161290323\n"
          ]
        },
        {
          "output_type": "stream",
          "name": "stderr",
          "text": [
            "/usr/local/lib/python3.7/dist-packages/sklearn/utils/validation.py:993: DataConversionWarning: A column-vector y was passed when a 1d array was expected. Please change the shape of y to (n_samples, ), for example using ravel().\n",
            "  y = column_or_1d(y, warn=True)\n"
          ]
        }
      ]
    }
  ]
}